{
 "cells": [
  {
   "cell_type": "markdown",
   "metadata": {},
   "source": [
    "# Loading Data"
   ]
  },
  {
   "cell_type": "code",
   "execution_count": 330,
   "metadata": {
    "ExecuteTime": {
     "end_time": "2019-08-04T09:32:35.292539Z",
     "start_time": "2019-08-04T09:32:35.008270Z"
    },
    "collapsed": true
   },
   "outputs": [],
   "source": [
    "import pandas as pd\n",
    "import numpy as np\n",
    "data=pd.read_csv(r\"E:\\Spark\\DataSets\\Train.csv\")\n",
    "FinalTest=pd.read_csv(r\"E:\\Spark\\DataSets\\Test.csv\")\n",
    "submission=pd.read_csv(r\"E:\\Spark\\DataSets\\sample_submission.csv\")\n"
   ]
  },
  {
   "cell_type": "code",
   "execution_count": 331,
   "metadata": {
    "ExecuteTime": {
     "end_time": "2019-08-04T09:32:35.313591Z",
     "start_time": "2019-08-04T09:32:35.297993Z"
    },
    "collapsed": false
   },
   "outputs": [
    {
     "name": "stdout",
     "output_type": "stream",
     "text": [
      "(33750, 15) (14454, 14) (4, 2)\n"
     ]
    }
   ],
   "source": [
    "print(data.shape,FinalTest.shape,submission.shape)"
   ]
  },
  {
   "cell_type": "markdown",
   "metadata": {},
   "source": [
    "# Converting datetime to pandas datetime"
   ]
  },
  {
   "cell_type": "code",
   "execution_count": 332,
   "metadata": {
    "ExecuteTime": {
     "end_time": "2019-08-04T09:32:36.355237Z",
     "start_time": "2019-08-04T09:32:35.659508Z"
    },
    "collapsed": true
   },
   "outputs": [],
   "source": [
    "import calendar\n",
    "data['date_time2']=data['date_time']\n",
    "data['date_time']=pd.to_datetime(data['date_time'])\n",
    "data['day_of_week']=data['date_time'].apply(lambda x:calendar.day_name[x.weekday()])\n",
    "\n",
    "FinalTest['date_time2']=FinalTest['date_time']\n",
    "FinalTest['date_time']=pd.to_datetime(FinalTest['date_time'])\n",
    "FinalTest['day_of_week']=FinalTest['date_time'].apply(lambda x:calendar.day_name[x.weekday()])\n",
    "\n",
    "\n"
   ]
  },
  {
   "cell_type": "code",
   "execution_count": 333,
   "metadata": {
    "ExecuteTime": {
     "end_time": "2019-08-04T09:32:36.396857Z",
     "start_time": "2019-08-04T09:32:36.361073Z"
    },
    "collapsed": true
   },
   "outputs": [],
   "source": [
    "data_weekdays=data.copy()"
   ]
  },
  {
   "cell_type": "code",
   "execution_count": 334,
   "metadata": {
    "ExecuteTime": {
     "end_time": "2019-08-04T09:32:36.680972Z",
     "start_time": "2019-08-04T09:32:36.660713Z"
    },
    "collapsed": true
   },
   "outputs": [],
   "source": [
    "FinalTest_weekdays=FinalTest.copy()"
   ]
  },
  {
   "cell_type": "markdown",
   "metadata": {},
   "source": [
    "# Date features"
   ]
  },
  {
   "cell_type": "code",
   "execution_count": 335,
   "metadata": {
    "ExecuteTime": {
     "end_time": "2019-08-04T09:32:37.221996Z",
     "start_time": "2019-08-04T09:32:37.163220Z"
    },
    "collapsed": true
   },
   "outputs": [],
   "source": [
    "import warnings\n",
    "warnings.filterwarnings(\"ignore\")\n",
    "data_weekdays['date_time']=pd.to_datetime(data_weekdays['date_time'])\n",
    "data_weekdays['day']=data_weekdays['date_time'].dt.day\n",
    "data_weekdays['month']=data_weekdays['date_time'].dt.month\n",
    "data_weekdays['hour']=data_weekdays['date_time'].dt.hour\n",
    "\n",
    "\n",
    "\n",
    "FinalTest_weekdays['date_time']=pd.to_datetime(FinalTest_weekdays['date_time'])\n",
    "FinalTest_weekdays['day']=FinalTest_weekdays['date_time'].dt.day\n",
    "FinalTest_weekdays['month']=FinalTest_weekdays['date_time'].dt.month\n",
    "FinalTest_weekdays['hour']=FinalTest_weekdays['date_time'].dt.hour"
   ]
  },
  {
   "cell_type": "markdown",
   "metadata": {},
   "source": [
    "# Train test split"
   ]
  },
  {
   "cell_type": "code",
   "execution_count": 336,
   "metadata": {
    "ExecuteTime": {
     "end_time": "2019-08-04T09:32:37.983293Z",
     "start_time": "2019-08-04T09:32:37.873712Z"
    },
    "collapsed": false
   },
   "outputs": [
    {
     "name": "stdout",
     "output_type": "stream",
     "text": [
      "(33750, 20) (0, 20) (0, 20)\n"
     ]
    }
   ],
   "source": [
    "def splitDatasets(data,validation_fraction,test_fraction):\n",
    "    train, validate, test = np.split(data.sample(frac=1), [int(validation_fraction*len(data)), int(test_fraction*len(data))])\n",
    "    print(train.shape,validate.shape,test.shape)\n",
    "    return train,test,validate\n",
    "\n",
    "train,test,validation=splitDatasets(data_weekdays,1,1)"
   ]
  },
  {
   "cell_type": "code",
   "execution_count": null,
   "metadata": {
    "collapsed": true
   },
   "outputs": [],
   "source": []
  },
  {
   "cell_type": "code",
   "execution_count": null,
   "metadata": {
    "collapsed": true
   },
   "outputs": [],
   "source": []
  },
  {
   "cell_type": "code",
   "execution_count": null,
   "metadata": {
    "collapsed": true
   },
   "outputs": [],
   "source": []
  },
  {
   "cell_type": "code",
   "execution_count": null,
   "metadata": {
    "collapsed": true
   },
   "outputs": [],
   "source": []
  },
  {
   "cell_type": "code",
   "execution_count": null,
   "metadata": {
    "collapsed": true
   },
   "outputs": [],
   "source": []
  },
  {
   "cell_type": "markdown",
   "metadata": {
    "ExecuteTime": {
     "end_time": "2019-08-03T13:17:49.459572Z",
     "start_time": "2019-08-03T13:17:49.447365Z"
    }
   },
   "source": [
    "<b> Using Whole data for training the model  to predict on final test data </b>"
   ]
  },
  {
   "cell_type": "code",
   "execution_count": 337,
   "metadata": {
    "ExecuteTime": {
     "end_time": "2019-08-04T09:32:40.152636Z",
     "start_time": "2019-08-04T09:32:40.132042Z"
    },
    "collapsed": true
   },
   "outputs": [],
   "source": [
    "test=FinalTest_weekdays.copy()"
   ]
  },
  {
   "cell_type": "code",
   "execution_count": 338,
   "metadata": {
    "ExecuteTime": {
     "end_time": "2019-08-04T09:32:40.723334Z",
     "start_time": "2019-08-04T09:32:40.710716Z"
    },
    "collapsed": false
   },
   "outputs": [
    {
     "data": {
      "text/plain": [
       "(14454, 19)"
      ]
     },
     "execution_count": 338,
     "metadata": {},
     "output_type": "execute_result"
    }
   ],
   "source": [
    "test.shape"
   ]
  },
  {
   "cell_type": "code",
   "execution_count": null,
   "metadata": {
    "collapsed": true
   },
   "outputs": [],
   "source": []
  },
  {
   "cell_type": "code",
   "execution_count": null,
   "metadata": {
    "collapsed": true
   },
   "outputs": [],
   "source": []
  },
  {
   "cell_type": "markdown",
   "metadata": {},
   "source": [
    "# Filling Is Holiday"
   ]
  },
  {
   "cell_type": "code",
   "execution_count": 339,
   "metadata": {
    "ExecuteTime": {
     "end_time": "2019-08-04T09:33:07.871132Z",
     "start_time": "2019-08-04T09:33:01.977283Z"
    },
    "collapsed": true
   },
   "outputs": [],
   "source": [
    "train['date'] = train['date_time'].dt.date\n",
    "list_holiday = list(train['is_holiday'].unique())\n",
    "list_holiday.remove('None')\n",
    "list_date = list(train.apply(lambda x:x['date'] if (x['is_holiday'] in list_holiday) else np.nan, axis=1))\n",
    "\n",
    "list_date.remove(np.nan)\n",
    "list_date = [x for x in list_date if str(x) != 'nan']\n",
    "\n",
    "for each in list_date:\n",
    "       holiday = list(train[train.date==each].is_holiday.unique())\n",
    "       holiday = [every for every in holiday if str(every) != 'None']\n",
    "       index = list(train[train.date==each]['is_holiday'].index)\n",
    "       for har in index:\n",
    "           train.loc[har, 'is_holiday'] = holiday[0]\n"
   ]
  },
  {
   "cell_type": "code",
   "execution_count": 344,
   "metadata": {
    "ExecuteTime": {
     "end_time": "2019-08-04T09:35:40.323608Z",
     "start_time": "2019-08-04T09:35:38.492793Z"
    },
    "collapsed": true
   },
   "outputs": [],
   "source": [
    "test['date'] = test['date_time'].dt.date\n",
    "list_holiday = list(test['is_holiday'].unique())\n",
    "list_holiday.remove('None')\n",
    "list_date = list(test.apply(lambda x:x['date'] if (x['is_holiday'] in list_holiday) else np.nan, axis=1))\n",
    "\n",
    "list_date.remove(np.nan)\n",
    "list_date = [x for x in list_date if str(x) != 'nan']\n",
    "\n",
    "for each in list_date:\n",
    "       holiday = list(test[test.date==each].is_holiday.unique())\n",
    "       holiday = [every for every in holiday if str(every) != 'None']\n",
    "       index = list(test[test.date==each]['is_holiday'].index)\n",
    "       for har in index:\n",
    "           test.loc[har, 'is_holiday'] = holiday[0]\n"
   ]
  },
  {
   "cell_type": "code",
   "execution_count": null,
   "metadata": {
    "collapsed": true
   },
   "outputs": [],
   "source": []
  },
  {
   "cell_type": "code",
   "execution_count": null,
   "metadata": {
    "collapsed": true
   },
   "outputs": [],
   "source": []
  },
  {
   "cell_type": "code",
   "execution_count": null,
   "metadata": {
    "collapsed": true
   },
   "outputs": [],
   "source": []
  },
  {
   "cell_type": "markdown",
   "metadata": {},
   "source": [
    "# Three Level Mean Encoding"
   ]
  },
  {
   "cell_type": "markdown",
   "metadata": {},
   "source": [
    "<b>calculate the mean traffic volume after grouping dataframe on 3 columns"
   ]
  },
  {
   "cell_type": "code",
   "execution_count": 345,
   "metadata": {
    "ExecuteTime": {
     "end_time": "2019-08-04T09:35:43.576995Z",
     "start_time": "2019-08-04T09:35:43.539220Z"
    },
    "collapsed": true
   },
   "outputs": [],
   "source": [
    "import pdb\n",
    "from tqdm import tqdm\n",
    "from sklearn.model_selection import StratifiedKFold\n",
    "from sklearn.model_selection import KFold\n",
    "def meanEncodingThreeLevel(column_names,target,train,validation,test,regularisation):\n",
    "    from sklearn.model_selection import KFold\n",
    "    for i in tqdm(column_names): \n",
    "            \n",
    "            \n",
    "            item_id_target_mean = train.groupby([i[0],i[1],i[2]])[target].mean()\n",
    "            \n",
    "            item_id_target_mean=pd.DataFrame(item_id_target_mean)\n",
    "            item_id_target_mean.reset_index(inplace=True)\n",
    "            item_id_target_mean.columns=[i[0],i[1],i[2],i[0]+\"_\"+i[1]+\"_\"+i[2]+\"_mean_encoding\"]\n",
    "            #pdb.set_trace()\n",
    "            feat=train.columns.tolist()\n",
    "            if regularisation==False:\n",
    "                train=pd.merge(train,item_id_target_mean,how=\"left\",on=[i[0],i[1],i[2]])\n",
    "            else:\n",
    "                skf = StratifiedKFold(n_splits=5,shuffle=False,random_state=0)\n",
    "                train=train.reset_index(drop=True)\n",
    "                train[i[0]+\"_\"+i[1]+\"_\"+i[2]+\"_mean_encoding\"]=np.nan\n",
    "                for tr_ind, val_ind in skf.split(train,train[target]):\n",
    "                    X_tr, X_val = train.iloc[tr_ind], train.iloc[val_ind]\n",
    "                    item_temp_mean=X_tr.groupby([i[0],i[1],i[2]])[target].mean()\n",
    "                    item_temp_mean=pd.DataFrame(item_temp_mean)\n",
    "                    item_temp_mean.reset_index(inplace=True)\n",
    "                    item_temp_mean.columns=[i[0],i[1],i[2],i[0]+\"_\"+i[1]+\"_\"+i[2]+\"_mean_encoding\"]\n",
    "                    \n",
    "                    X_val=pd.merge(X_val[feat],item_temp_mean,how=\"left\",on=[i[0],i[1],i[2]])\n",
    "                    \n",
    "                    \n",
    "                    train.loc[val_ind,i[0]+\"_\"+i[1]+\"_\"+i[2]+\"_mean_encoding\"]=X_val[i[0]+\"_\"+i[1]+\"_\"+i[2]+\"_mean_encoding\"].values.tolist()\n",
    "                    \n",
    "\n",
    "            validation=pd.merge(validation,item_id_target_mean,how=\"left\",on=[i[0],i[1],i[2]])\n",
    "            test=pd.merge(test,item_id_target_mean,how=\"left\",on=[i[0],i[1],i[2]])\n",
    "            train[i[0]+\"_\"+i[1]+\"_\"+i[2]+\"_mean_encoding\"]=train[i[0]+\"_\"+i[1]+\"_\"+i[2]+\"_mean_encoding\"].fillna(train.groupby([i[0],i[1],i[2]])[target].transform('mean'))\n",
    "            validation[i[0]+\"_\"+i[1]+\"_\"+i[2]+\"_mean_encoding\"]=validation[i[0]+\"_\"+i[1]+\"_\"+i[2]+\"_mean_encoding\"].fillna(train.groupby([i[0],i[1],i[2]])[target].transform('mean'))\n",
    "            test[i[0]+\"_\"+i[1]+\"_\"+i[2]+\"_mean_encoding\"]=test[i[0]+\"_\"+i[1]+\"_\"+i[2]+\"_mean_encoding\"].fillna(train.groupby([i[0],i[1],i[2]])[target].transform('mean'))\n",
    "\n",
    "    \n",
    "    return train,validation,test        \n",
    "            "
   ]
  },
  {
   "cell_type": "code",
   "execution_count": 346,
   "metadata": {
    "ExecuteTime": {
     "end_time": "2019-08-04T09:36:11.692171Z",
     "start_time": "2019-08-04T09:35:43.712417Z"
    },
    "collapsed": false
   },
   "outputs": [
    {
     "name": "stderr",
     "output_type": "stream",
     "text": [
      "100%|████████████████████████████████████████████████████████████████████████████████████| 3/3 [00:27<00:00,  9.30s/it]\n"
     ]
    }
   ],
   "source": [
    "train,validation,test=meanEncodingThreeLevel([['hour','weather_type','day_of_week'],['day_of_week','hour','weather_type'],['hour','weather_description','day_of_week']],\"traffic_volume\",train,validation,test,True)"
   ]
  },
  {
   "cell_type": "code",
   "execution_count": 347,
   "metadata": {
    "ExecuteTime": {
     "end_time": "2019-08-04T09:36:21.364205Z",
     "start_time": "2019-08-04T09:36:11.704002Z"
    },
    "collapsed": false
   },
   "outputs": [
    {
     "name": "stderr",
     "output_type": "stream",
     "text": [
      "100%|████████████████████████████████████████████████████████████████████████████████████| 1/1 [00:09<00:00,  9.63s/it]\n"
     ]
    }
   ],
   "source": [
    "train,validation,test=meanEncodingThreeLevel([['day_of_week','hour','weather_description']],\"traffic_volume\",train,validation,test,True)"
   ]
  },
  {
   "cell_type": "markdown",
   "metadata": {},
   "source": [
    "# Label encoding"
   ]
  },
  {
   "cell_type": "markdown",
   "metadata": {},
   "source": [
    "<b>label encode the particular column."
   ]
  },
  {
   "cell_type": "code",
   "execution_count": 348,
   "metadata": {
    "ExecuteTime": {
     "end_time": "2019-08-04T09:36:21.382921Z",
     "start_time": "2019-08-04T09:36:21.367626Z"
    },
    "collapsed": true
   },
   "outputs": [],
   "source": [
    "def labelEncoding(column_names,train,validation,test):\n",
    "    # import labelencoder\n",
    "    from sklearn.preprocessing import LabelEncoder\n",
    "    # instantiate labelencoder object\n",
    "    le = LabelEncoder()\n",
    "    for i in column_names:\n",
    "        train[i+'_label_encoded']=le.fit_transform(train[i]) \n",
    "        validation[i+\"_label_encoded\"]=le.transform(validation[i])\n",
    "        test[i+\"_label_encoded\"]=le.transform(test[i])\n",
    "    return train,validation,test\n",
    "\n",
    "    "
   ]
  },
  {
   "cell_type": "code",
   "execution_count": 349,
   "metadata": {
    "ExecuteTime": {
     "end_time": "2019-08-04T09:36:21.546208Z",
     "start_time": "2019-08-04T09:36:21.394378Z"
    },
    "collapsed": true
   },
   "outputs": [],
   "source": [
    "train,validation,test=labelEncoding([\"weather_type\",\"weather_description\"],train,validation,test)"
   ]
  },
  {
   "cell_type": "code",
   "execution_count": 350,
   "metadata": {
    "ExecuteTime": {
     "end_time": "2019-08-04T09:36:21.640836Z",
     "start_time": "2019-08-04T09:36:21.554482Z"
    },
    "collapsed": false
   },
   "outputs": [
    {
     "data": {
      "text/plain": [
       "(14454, 26)"
      ]
     },
     "execution_count": 350,
     "metadata": {},
     "output_type": "execute_result"
    }
   ],
   "source": [
    "test.shape"
   ]
  },
  {
   "cell_type": "markdown",
   "metadata": {},
   "source": [
    "# Mean Encoding Of A Categorical Column"
   ]
  },
  {
   "cell_type": "markdown",
   "metadata": {},
   "source": [
    "<b>calculates mean encoding for a column after doing groupby.  "
   ]
  },
  {
   "cell_type": "code",
   "execution_count": 351,
   "metadata": {
    "ExecuteTime": {
     "end_time": "2019-08-04T09:36:21.775307Z",
     "start_time": "2019-08-04T09:36:21.646104Z"
    },
    "collapsed": true
   },
   "outputs": [],
   "source": [
    "from sklearn.model_selection import StratifiedKFold\n",
    "def meanEncoding(column_names,target,train,validation,test,regularisation):\n",
    "\n",
    "    from sklearn.model_selection import KFold\n",
    "    for i in column_names: \n",
    "            item_id_target_mean = train.groupby(i)[target].mean()\n",
    "            \n",
    "            if regularisation==False:\n",
    "                train[i+\"_mean_encoding\"] = train[i].map(item_id_target_mean)\n",
    "            else:\n",
    "                skf = KFold(n_splits=5)\n",
    "                #skf.get_n_splits(train[features], train[target])\n",
    "                train[i+\"_mean_encoding\"] = 0\n",
    "                #features=features+[i[0]+\"_\"+i[1]+\"_mean_encoding\"]\n",
    "                for tr_ind, val_ind in skf.split(train):\n",
    "                    X_tr, X_val = train.iloc[tr_ind], train.iloc[val_ind]\n",
    "                    X_val[i+\"_mean_encoding\"] = X_val[i].map(X_tr.groupby(i)[target].mean())\n",
    "                    \n",
    "                    \n",
    "                    train.iloc[val_ind]=X_val\n",
    "                    \n",
    "            fillnan=train[target].mean()\n",
    "            validation[i+\"_mean_encoding\"]=validation[i].map(item_id_target_mean)\n",
    "            test[i+\"_mean_encoding\"]=test[i].map(item_id_target_mean)\n",
    "            train[i+\"_mean_encoding\"].fillna(fillnan, inplace=True) \n",
    "            validation[i+\"_mean_encoding\"].fillna(fillnan, inplace=True) \n",
    "            test[i+\"_mean_encoding\"].fillna(fillnan, inplace=True) \n",
    "            \n",
    "    return train,validation,test        \n",
    "            "
   ]
  },
  {
   "cell_type": "code",
   "execution_count": 352,
   "metadata": {
    "ExecuteTime": {
     "end_time": "2019-08-04T09:36:34.752989Z",
     "start_time": "2019-08-04T09:36:21.781268Z"
    },
    "collapsed": true
   },
   "outputs": [],
   "source": [
    "train,validation,test=meanEncoding(['weather_type',\"is_holiday\",\"day_of_week\",'weather_description'],\"traffic_volume\",train,validation,test,True)"
   ]
  },
  {
   "cell_type": "code",
   "execution_count": 353,
   "metadata": {
    "ExecuteTime": {
     "end_time": "2019-08-04T09:36:37.972098Z",
     "start_time": "2019-08-04T09:36:34.754996Z"
    },
    "collapsed": true
   },
   "outputs": [],
   "source": [
    "train,validation,test=meanEncoding(['hour'],\"traffic_volume\",train,validation,test,True)"
   ]
  },
  {
   "cell_type": "markdown",
   "metadata": {},
   "source": [
    "# Expanding Mean Encoding  "
   ]
  },
  {
   "cell_type": "markdown",
   "metadata": {},
   "source": [
    "<b> Expanding mean encoding of a column which only considers rows before a particular item to calculate average."
   ]
  },
  {
   "cell_type": "code",
   "execution_count": 354,
   "metadata": {
    "ExecuteTime": {
     "end_time": "2019-08-04T09:36:37.986195Z",
     "start_time": "2019-08-04T09:36:37.974133Z"
    },
    "collapsed": true
   },
   "outputs": [],
   "source": [
    "def expandingMeanEncoding(column_names,target,train,validation,test):\n",
    "    for i  in column_names:\n",
    "        item_id_target_expanding = train.groupby(i)[target].mean()\n",
    "        cumsum = train.groupby(i)[target].cumsum() - train[target]\n",
    "        cumcnt = train.groupby(i).cumcount()\n",
    "        train[i+\"_expanding_encoding\"] = cumsum / cumcnt\n",
    "        \n",
    "        fillnan=train[target].mean()\n",
    "        validation[i+\"_expanding_encoding\"]=validation[i].map(item_id_target_expanding)\n",
    "        test[i+\"_expanding_encoding\"]=test[i].map(item_id_target_expanding)\n",
    "        train[i+\"_expanding_encoding\"].fillna(fillnan, inplace=True) \n",
    "        validation[i+\"_expanding_encoding\"].fillna(fillnan, inplace=True) \n",
    "        test[i+\"_expanding_encoding\"].fillna(fillnan, inplace=True) \n",
    "\n",
    "    return train,validation,test    \n",
    "        "
   ]
  },
  {
   "cell_type": "code",
   "execution_count": 355,
   "metadata": {
    "ExecuteTime": {
     "end_time": "2019-08-04T09:36:38.570750Z",
     "start_time": "2019-08-04T09:36:37.988187Z"
    },
    "collapsed": true
   },
   "outputs": [],
   "source": [
    "train,validation,test=expandingMeanEncoding(['weather_type',\"day_of_week\",'is_holiday','weather_description','day_of_week'],\"traffic_volume\",train,validation,test)"
   ]
  },
  {
   "cell_type": "code",
   "execution_count": 356,
   "metadata": {
    "ExecuteTime": {
     "end_time": "2019-08-04T09:36:38.588635Z",
     "start_time": "2019-08-04T09:36:38.577061Z"
    },
    "collapsed": false
   },
   "outputs": [
    {
     "data": {
      "text/plain": [
       "(14454, 35)"
      ]
     },
     "execution_count": 356,
     "metadata": {},
     "output_type": "execute_result"
    }
   ],
   "source": [
    "test.shape"
   ]
  },
  {
   "cell_type": "markdown",
   "metadata": {},
   "source": [
    "# Two Level Mean Encoding"
   ]
  },
  {
   "cell_type": "markdown",
   "metadata": {},
   "source": [
    "<b>calculates two level average after grouping the dataframe by two columns."
   ]
  },
  {
   "cell_type": "code",
   "execution_count": 357,
   "metadata": {
    "ExecuteTime": {
     "end_time": "2019-08-04T09:36:38.732395Z",
     "start_time": "2019-08-04T09:36:38.594660Z"
    },
    "collapsed": true
   },
   "outputs": [],
   "source": [
    "import pdb\n",
    "from tqdm import tqdm\n",
    "from sklearn.model_selection import StratifiedKFold\n",
    "def meanEncodingTwoLevel(column_names,target,train,validation,test,regularisation):\n",
    "    from sklearn.model_selection import KFold\n",
    "    for i in tqdm(column_names): \n",
    "            \n",
    "            \n",
    "            item_id_target_mean = train.groupby([i[0],i[1]])[target].mean()\n",
    "            \n",
    "            item_id_target_mean=pd.DataFrame(item_id_target_mean)\n",
    "            item_id_target_mean.reset_index(inplace=True)\n",
    "            item_id_target_mean.columns=[i[0],i[1],i[0]+\"_\"+i[1]+\"_mean_encoding\"]\n",
    "            #pdb.set_trace()\n",
    "            feat=train.columns.tolist()\n",
    "            if regularisation==False:\n",
    "                train=pd.merge(train,item_id_target_mean,how=\"left\",on=[i[0],i[1]])\n",
    "            else:\n",
    "                skf = StratifiedKFold(n_splits=5,shuffle=False,random_state=0)\n",
    "                train=train.reset_index(drop=True)\n",
    "                train[i[0]+\"_\"+i[1]+\"_mean_encoding\"]=np.nan\n",
    "                for tr_ind, val_ind in skf.split(train,train[target]):\n",
    "                    X_tr, X_val = train.iloc[tr_ind], train.iloc[val_ind]\n",
    "                    item_temp_mean=X_tr.groupby([i[0],i[1]])[target].mean()\n",
    "                    item_temp_mean=pd.DataFrame(item_temp_mean)\n",
    "                    item_temp_mean.reset_index(inplace=True)\n",
    "                    item_temp_mean.columns=[i[0],i[1],i[0]+\"_\"+i[1]+\"_mean_encoding\"]\n",
    "                    \n",
    "                    X_val=pd.merge(X_val[feat],item_temp_mean,how=\"left\",on=[i[0],i[1]])\n",
    "                    \n",
    "                    \n",
    "                    train.loc[val_ind,i[0]+\"_\"+i[1]+\"_mean_encoding\"]=X_val[i[0]+\"_\"+i[1]+\"_mean_encoding\"].values.tolist()\n",
    "                    \n",
    "\n",
    "            #print(train.columns)\n",
    "            validation=pd.merge(validation,item_id_target_mean,how=\"left\",on=[i[0],i[1]])\n",
    "            test=pd.merge(test,item_id_target_mean,how=\"left\",on=[i[0],i[1]])\n",
    "            train[i[0]+\"_\"+i[1]+\"_mean_encoding\"]=train[i[0]+\"_\"+i[1]+\"_mean_encoding\"].fillna(train.groupby([i[0],i[1]])[target].transform('mean'))\n",
    "            validation[i[0]+\"_\"+i[1]+\"_mean_encoding\"]=validation[i[0]+\"_\"+i[1]+\"_mean_encoding\"].fillna(train.groupby([i[0],i[1]])[target].transform('mean'))\n",
    "            test[i[0]+\"_\"+i[1]+\"_mean_encoding\"]=test[i[0]+\"_\"+i[1]+\"_mean_encoding\"].fillna(train.groupby([i[0],i[1]])[target].transform('mean'))\n",
    "\n",
    "    \n",
    "    return train,validation,test        \n",
    "            "
   ]
  },
  {
   "cell_type": "code",
   "execution_count": 358,
   "metadata": {
    "ExecuteTime": {
     "end_time": "2019-08-04T09:37:07.958731Z",
     "start_time": "2019-08-04T09:36:38.732395Z"
    },
    "collapsed": false
   },
   "outputs": [
    {
     "name": "stderr",
     "output_type": "stream",
     "text": [
      "100%|████████████████████████████████████████████████████████████████████████████████████| 3/3 [00:29<00:00,  9.63s/it]\n"
     ]
    }
   ],
   "source": [
    "train,validation,test=meanEncodingTwoLevel([['hour','weather_type'],['day_of_week','hour'],['hour','weather_description']],\"traffic_volume\",train,validation,test,True)"
   ]
  },
  {
   "cell_type": "code",
   "execution_count": 359,
   "metadata": {
    "ExecuteTime": {
     "end_time": "2019-08-04T09:37:20.821150Z",
     "start_time": "2019-08-04T09:37:07.960915Z"
    },
    "collapsed": false
   },
   "outputs": [
    {
     "name": "stderr",
     "output_type": "stream",
     "text": [
      "100%|████████████████████████████████████████████████████████████████████████████████████| 1/1 [00:12<00:00, 12.82s/it]\n"
     ]
    }
   ],
   "source": [
    "train,validation,test=meanEncodingTwoLevel([['hour','day_of_week']],\"traffic_volume\",train,validation,test,True)"
   ]
  },
  {
   "cell_type": "code",
   "execution_count": 360,
   "metadata": {
    "ExecuteTime": {
     "end_time": "2019-08-04T09:37:35.464308Z",
     "start_time": "2019-08-04T09:37:20.825169Z"
    },
    "collapsed": false
   },
   "outputs": [
    {
     "name": "stderr",
     "output_type": "stream",
     "text": [
      "100%|████████████████████████████████████████████████████████████████████████████████████| 1/1 [00:14<00:00, 14.60s/it]\n"
     ]
    }
   ],
   "source": [
    "train,validation,test=meanEncodingTwoLevel([['month','weather_description']],\"traffic_volume\",train,validation,test,True)"
   ]
  },
  {
   "cell_type": "code",
   "execution_count": 361,
   "metadata": {
    "ExecuteTime": {
     "end_time": "2019-08-04T09:37:46.313818Z",
     "start_time": "2019-08-04T09:37:35.465304Z"
    },
    "collapsed": false
   },
   "outputs": [
    {
     "name": "stderr",
     "output_type": "stream",
     "text": [
      "100%|████████████████████████████████████████████████████████████████████████████████████| 1/1 [00:10<00:00, 10.82s/it]\n"
     ]
    }
   ],
   "source": [
    "train,validation,test=meanEncodingTwoLevel([['month','weather_type']],\"traffic_volume\",train,validation,test,True)"
   ]
  },
  {
   "cell_type": "markdown",
   "metadata": {},
   "source": [
    "# Holiday Boolean"
   ]
  },
  {
   "cell_type": "markdown",
   "metadata": {},
   "source": [
    "<b> binary encode the is_holiday on the basis of whether it is a holiday or not."
   ]
  },
  {
   "cell_type": "code",
   "execution_count": 362,
   "metadata": {
    "ExecuteTime": {
     "end_time": "2019-08-04T09:37:46.329862Z",
     "start_time": "2019-08-04T09:37:46.318900Z"
    },
    "collapsed": true
   },
   "outputs": [],
   "source": [
    "holidaylist=['Martin Luther King Jr Day', 'Thanksgiving Day',\n",
    "       'Independence Day', 'Christmas Day', 'Washingtons Birthday',\n",
    "       'Columbus Day', 'Veterans Day', 'State Fair', 'New Years Day',\n",
    "       'Labor Day', 'Memorial Day']"
   ]
  },
  {
   "cell_type": "code",
   "execution_count": 363,
   "metadata": {
    "ExecuteTime": {
     "end_time": "2019-08-04T09:37:46.839830Z",
     "start_time": "2019-08-04T09:37:46.350799Z"
    },
    "collapsed": true
   },
   "outputs": [],
   "source": [
    "train['is_holiday_boolean']=0\n",
    "train.loc[train['is_holiday'].isin(holidaylist),'is_holiday_boolean']=1"
   ]
  },
  {
   "cell_type": "code",
   "execution_count": 364,
   "metadata": {
    "ExecuteTime": {
     "end_time": "2019-08-04T09:37:46.968438Z",
     "start_time": "2019-08-04T09:37:46.855808Z"
    },
    "collapsed": true
   },
   "outputs": [],
   "source": [
    "test['is_holiday_boolean']=0\n",
    "test.loc[test['is_holiday'].isin(holidaylist),'is_holiday_boolean']=1"
   ]
  },
  {
   "cell_type": "code",
   "execution_count": 365,
   "metadata": {
    "ExecuteTime": {
     "end_time": "2019-08-04T09:37:47.088698Z",
     "start_time": "2019-08-04T09:37:46.974398Z"
    },
    "collapsed": true
   },
   "outputs": [],
   "source": [
    "train['is_weekend_boolean']=0\n",
    "test['is_weekend_boolean']=0\n",
    "train.loc[train['day_of_week'].isin(['Saturday','Sunday']),'is_weekend_boolean']=1\n",
    "test.loc[test['day_of_week'].isin(['Saturday','Sunday']),'is_weekend_boolean']=1"
   ]
  },
  {
   "cell_type": "code",
   "execution_count": 366,
   "metadata": {
    "ExecuteTime": {
     "end_time": "2019-08-04T09:37:47.213536Z",
     "start_time": "2019-08-04T09:37:47.093704Z"
    },
    "collapsed": true
   },
   "outputs": [],
   "source": [
    "train['holidays']=((train['is_weekend_boolean']==1)|(train['is_holiday_boolean']==1)).astype(int)\n",
    "test['holidays']=((test['is_weekend_boolean']==1)|(test['is_holiday_boolean']==1)).astype(int)"
   ]
  },
  {
   "cell_type": "markdown",
   "metadata": {},
   "source": [
    "# No. Of Days For Next Festival"
   ]
  },
  {
   "cell_type": "code",
   "execution_count": 367,
   "metadata": {
    "ExecuteTime": {
     "end_time": "2019-08-04T09:37:47.468291Z",
     "start_time": "2019-08-04T09:37:47.219233Z"
    },
    "collapsed": true
   },
   "outputs": [],
   "source": [
    "from pandas.tseries.holiday import USFederalHolidayCalendar\n",
    "cal = USFederalHolidayCalendar()\n",
    "holidays1 = cal.holidays(start='2012-10-02', end='2018-09-30').to_pydatetime()"
   ]
  },
  {
   "cell_type": "code",
   "execution_count": 368,
   "metadata": {
    "ExecuteTime": {
     "end_time": "2019-08-04T09:37:47.570166Z",
     "start_time": "2019-08-04T09:37:47.474434Z"
    },
    "collapsed": false
   },
   "outputs": [
    {
     "data": {
      "text/html": [
       "<div>\n",
       "<style scoped>\n",
       "    .dataframe tbody tr th:only-of-type {\n",
       "        vertical-align: middle;\n",
       "    }\n",
       "\n",
       "    .dataframe tbody tr th {\n",
       "        vertical-align: top;\n",
       "    }\n",
       "\n",
       "    .dataframe thead th {\n",
       "        text-align: right;\n",
       "    }\n",
       "</style>\n",
       "<table border=\"1\" class=\"dataframe\">\n",
       "  <thead>\n",
       "    <tr style=\"text-align: right;\">\n",
       "      <th></th>\n",
       "      <th>date_time</th>\n",
       "      <th>is_holiday</th>\n",
       "      <th>air_pollution_index</th>\n",
       "      <th>humidity</th>\n",
       "      <th>wind_speed</th>\n",
       "      <th>wind_direction</th>\n",
       "      <th>visibility_in_miles</th>\n",
       "      <th>dew_point</th>\n",
       "      <th>temperature</th>\n",
       "      <th>rain_p_h</th>\n",
       "      <th>...</th>\n",
       "      <th>weather_description_expanding_encoding</th>\n",
       "      <th>hour_weather_type_mean_encoding</th>\n",
       "      <th>day_of_week_hour_mean_encoding</th>\n",
       "      <th>hour_weather_description_mean_encoding</th>\n",
       "      <th>hour_day_of_week_mean_encoding</th>\n",
       "      <th>month_weather_description_mean_encoding</th>\n",
       "      <th>month_weather_type_mean_encoding</th>\n",
       "      <th>is_holiday_boolean</th>\n",
       "      <th>is_weekend_boolean</th>\n",
       "      <th>holidays</th>\n",
       "    </tr>\n",
       "  </thead>\n",
       "  <tbody>\n",
       "    <tr>\n",
       "      <th>33749</th>\n",
       "      <td>2016-08-10 11:00:00</td>\n",
       "      <td>None</td>\n",
       "      <td>216</td>\n",
       "      <td>94</td>\n",
       "      <td>5</td>\n",
       "      <td>120</td>\n",
       "      <td>4</td>\n",
       "      <td>4</td>\n",
       "      <td>300.65</td>\n",
       "      <td>0.0</td>\n",
       "      <td>...</td>\n",
       "      <td>3416.779274</td>\n",
       "      <td>4526.384615</td>\n",
       "      <td>4640.48</td>\n",
       "      <td>4588.0</td>\n",
       "      <td>4640.48</td>\n",
       "      <td>3343.617486</td>\n",
       "      <td>3423.399556</td>\n",
       "      <td>0</td>\n",
       "      <td>0</td>\n",
       "      <td>0</td>\n",
       "    </tr>\n",
       "  </tbody>\n",
       "</table>\n",
       "<p>1 rows × 45 columns</p>\n",
       "</div>"
      ],
      "text/plain": [
       "                date_time is_holiday  air_pollution_index  humidity  \\\n",
       "33749 2016-08-10 11:00:00       None                  216        94   \n",
       "\n",
       "       wind_speed  wind_direction  visibility_in_miles  dew_point  \\\n",
       "33749           5             120                    4          4   \n",
       "\n",
       "       temperature  rain_p_h  ...  weather_description_expanding_encoding  \\\n",
       "33749       300.65       0.0  ...                             3416.779274   \n",
       "\n",
       "       hour_weather_type_mean_encoding day_of_week_hour_mean_encoding  \\\n",
       "33749                      4526.384615                        4640.48   \n",
       "\n",
       "      hour_weather_description_mean_encoding  hour_day_of_week_mean_encoding  \\\n",
       "33749                                 4588.0                         4640.48   \n",
       "\n",
       "      month_weather_description_mean_encoding  \\\n",
       "33749                             3343.617486   \n",
       "\n",
       "      month_weather_type_mean_encoding  is_holiday_boolean  \\\n",
       "33749                      3423.399556                   0   \n",
       "\n",
       "       is_weekend_boolean  holidays  \n",
       "33749                   0         0  \n",
       "\n",
       "[1 rows x 45 columns]"
      ]
     },
     "execution_count": 368,
     "metadata": {},
     "output_type": "execute_result"
    }
   ],
   "source": [
    "train.tail(1)"
   ]
  },
  {
   "cell_type": "code",
   "execution_count": 369,
   "metadata": {
    "ExecuteTime": {
     "end_time": "2019-08-04T09:37:47.730970Z",
     "start_time": "2019-08-04T09:37:47.572648Z"
    },
    "collapsed": false
   },
   "outputs": [
    {
     "data": {
      "text/html": [
       "<div>\n",
       "<style scoped>\n",
       "    .dataframe tbody tr th:only-of-type {\n",
       "        vertical-align: middle;\n",
       "    }\n",
       "\n",
       "    .dataframe tbody tr th {\n",
       "        vertical-align: top;\n",
       "    }\n",
       "\n",
       "    .dataframe thead th {\n",
       "        text-align: right;\n",
       "    }\n",
       "</style>\n",
       "<table border=\"1\" class=\"dataframe\">\n",
       "  <thead>\n",
       "    <tr style=\"text-align: right;\">\n",
       "      <th></th>\n",
       "      <th>date_time</th>\n",
       "      <th>is_holiday</th>\n",
       "      <th>air_pollution_index</th>\n",
       "      <th>humidity</th>\n",
       "      <th>wind_speed</th>\n",
       "      <th>wind_direction</th>\n",
       "      <th>visibility_in_miles</th>\n",
       "      <th>dew_point</th>\n",
       "      <th>temperature</th>\n",
       "      <th>rain_p_h</th>\n",
       "      <th>...</th>\n",
       "      <th>weather_description_expanding_encoding</th>\n",
       "      <th>hour_weather_type_mean_encoding</th>\n",
       "      <th>day_of_week_hour_mean_encoding</th>\n",
       "      <th>hour_weather_description_mean_encoding</th>\n",
       "      <th>hour_day_of_week_mean_encoding</th>\n",
       "      <th>month_weather_description_mean_encoding</th>\n",
       "      <th>month_weather_type_mean_encoding</th>\n",
       "      <th>is_holiday_boolean</th>\n",
       "      <th>is_weekend_boolean</th>\n",
       "      <th>holidays</th>\n",
       "    </tr>\n",
       "  </thead>\n",
       "  <tbody>\n",
       "    <tr>\n",
       "      <th>0</th>\n",
       "      <td>2017-05-18</td>\n",
       "      <td>None</td>\n",
       "      <td>73</td>\n",
       "      <td>63</td>\n",
       "      <td>1</td>\n",
       "      <td>27</td>\n",
       "      <td>4</td>\n",
       "      <td>4</td>\n",
       "      <td>285.15</td>\n",
       "      <td>0.0</td>\n",
       "      <td>...</td>\n",
       "      <td>3113.825339</td>\n",
       "      <td>829.15</td>\n",
       "      <td>677.532663</td>\n",
       "      <td>786.06</td>\n",
       "      <td>677.532663</td>\n",
       "      <td>3384.225434</td>\n",
       "      <td>3520.701439</td>\n",
       "      <td>0</td>\n",
       "      <td>0</td>\n",
       "      <td>0</td>\n",
       "    </tr>\n",
       "  </tbody>\n",
       "</table>\n",
       "<p>1 rows × 44 columns</p>\n",
       "</div>"
      ],
      "text/plain": [
       "   date_time is_holiday  air_pollution_index  humidity  wind_speed  \\\n",
       "0 2017-05-18       None                   73        63           1   \n",
       "\n",
       "   wind_direction  visibility_in_miles  dew_point  temperature  rain_p_h  ...  \\\n",
       "0              27                    4          4       285.15       0.0  ...   \n",
       "\n",
       "   weather_description_expanding_encoding  hour_weather_type_mean_encoding  \\\n",
       "0                             3113.825339                           829.15   \n",
       "\n",
       "  day_of_week_hour_mean_encoding hour_weather_description_mean_encoding  \\\n",
       "0                     677.532663                                 786.06   \n",
       "\n",
       "  hour_day_of_week_mean_encoding month_weather_description_mean_encoding  \\\n",
       "0                     677.532663                             3384.225434   \n",
       "\n",
       "   month_weather_type_mean_encoding  is_holiday_boolean  is_weekend_boolean  \\\n",
       "0                       3520.701439                   0                   0   \n",
       "\n",
       "  holidays  \n",
       "0        0  \n",
       "\n",
       "[1 rows x 44 columns]"
      ]
     },
     "execution_count": 369,
     "metadata": {},
     "output_type": "execute_result"
    }
   ],
   "source": [
    "test.head(1)"
   ]
  },
  {
   "cell_type": "code",
   "execution_count": 370,
   "metadata": {
    "ExecuteTime": {
     "end_time": "2019-08-04T09:37:47.856294Z",
     "start_time": "2019-08-04T09:37:47.734434Z"
    },
    "collapsed": true
   },
   "outputs": [],
   "source": [
    "sep=len(train)"
   ]
  },
  {
   "cell_type": "code",
   "execution_count": 371,
   "metadata": {
    "ExecuteTime": {
     "end_time": "2019-08-04T09:37:48.082445Z",
     "start_time": "2019-08-04T09:37:47.858178Z"
    },
    "collapsed": true
   },
   "outputs": [],
   "source": [
    "train.reset_index(inplace=True,drop=True)\n",
    "test.reset_index(inplace=True,drop=True)\n",
    "overall=pd.concat([train,test],axis=0)\n",
    "overall.reset_index(inplace=True,drop=True)"
   ]
  },
  {
   "cell_type": "code",
   "execution_count": 372,
   "metadata": {
    "ExecuteTime": {
     "end_time": "2019-08-04T09:37:48.112866Z",
     "start_time": "2019-08-04T09:37:48.088906Z"
    },
    "collapsed": false
   },
   "outputs": [
    {
     "name": "stdout",
     "output_type": "stream",
     "text": [
      "(48204, 45) (33750, 45)\n"
     ]
    }
   ],
   "source": [
    "print(overall.shape,train.shape)"
   ]
  },
  {
   "cell_type": "code",
   "execution_count": 373,
   "metadata": {
    "ExecuteTime": {
     "end_time": "2019-08-04T09:37:50.686820Z",
     "start_time": "2019-08-04T09:37:48.119469Z"
    },
    "collapsed": true
   },
   "outputs": [],
   "source": [
    "overall['no_of_days_till_next_festival'] = np.nan\n",
    "overall['date_time']=pd.to_datetime(overall['date_time']).dt.date\n",
    "overall['date_time22']=(overall['date_time']-overall['date_time'].min()).apply(lambda x: str(x).split(' ')[0]).astype(int)\n",
    "overall=overall.sort_values('date_time22')\n",
    "holidays11=overall[overall['is_holiday_boolean']==1].drop_duplicates().sort_values('date_time22')['date_time22'].values.tolist()\n",
    "overall.reset_index(drop=True,inplace=True)\n",
    "overall['no_of_days_till_next_festival']=np.nan\n",
    "data_left=overall[['date_time22','no_of_days_till_next_festival']].drop_duplicates('date_time22')\n",
    "data_left.reset_index(drop=True,inplace=True)\n",
    "dataleft_index=data_left.index\n"
   ]
  },
  {
   "cell_type": "code",
   "execution_count": 374,
   "metadata": {
    "ExecuteTime": {
     "end_time": "2019-08-04T09:37:50.774514Z",
     "start_time": "2019-08-04T09:37:50.691009Z"
    },
    "collapsed": true
   },
   "outputs": [],
   "source": [
    "current_holiday_index=0\n",
    "for index in dataleft_index:\n",
    "    curr_date = data_left.at[index, 'date_time22']\n",
    "    if (len(holidays11)==0):\n",
    "        data_left.at[index, 'no_of_days_till_next_festival']=-1\n",
    "    else:\n",
    "        if curr_date<=holidays11[0]:\n",
    "            data_left.at[index, 'no_of_days_till_next_festival']=holidays11[0]-curr_date\n",
    "        else:\n",
    "            holidays11.remove(holidays11[0])\n",
    "            if (len(holidays11)==0):\n",
    "                data_left.at[index, 'no_of_days_till_next_festival']=-1\n",
    "            else:\n",
    "                data_left.at[index, 'no_of_days_till_next_festival']=holidays11[0]-curr_date"
   ]
  },
  {
   "cell_type": "code",
   "execution_count": 375,
   "metadata": {
    "ExecuteTime": {
     "end_time": "2019-08-04T09:37:51.016051Z",
     "start_time": "2019-08-04T09:37:50.779127Z"
    },
    "collapsed": true
   },
   "outputs": [],
   "source": [
    "overall=overall.drop('no_of_days_till_next_festival',axis=1)"
   ]
  },
  {
   "cell_type": "code",
   "execution_count": 376,
   "metadata": {
    "ExecuteTime": {
     "end_time": "2019-08-04T09:37:51.476291Z",
     "start_time": "2019-08-04T09:37:51.017454Z"
    },
    "collapsed": true
   },
   "outputs": [],
   "source": [
    "overall=pd.merge(overall,data_left,how='left',on='date_time22')"
   ]
  },
  {
   "cell_type": "markdown",
   "metadata": {},
   "source": [
    "# No Of Days For All Holidays(holidays+weekends)"
   ]
  },
  {
   "cell_type": "code",
   "execution_count": 377,
   "metadata": {
    "ExecuteTime": {
     "end_time": "2019-08-04T09:37:51.487313Z",
     "start_time": "2019-08-04T09:37:51.479297Z"
    },
    "collapsed": true
   },
   "outputs": [],
   "source": [
    "overall['no_of_days_till_next_holiday'] = np.nan"
   ]
  },
  {
   "cell_type": "code",
   "execution_count": 378,
   "metadata": {
    "ExecuteTime": {
     "end_time": "2019-08-04T09:37:51.871992Z",
     "start_time": "2019-08-04T09:37:51.491287Z"
    },
    "collapsed": true
   },
   "outputs": [],
   "source": [
    "holidays_all=overall[overall['holidays']==1].drop_duplicates().sort_values('date_time22')['date_time22'].values.tolist()"
   ]
  },
  {
   "cell_type": "code",
   "execution_count": 379,
   "metadata": {
    "ExecuteTime": {
     "end_time": "2019-08-04T09:37:51.920909Z",
     "start_time": "2019-08-04T09:37:51.875056Z"
    },
    "collapsed": true
   },
   "outputs": [],
   "source": [
    "overall.reset_index(drop=True,inplace=True)\n",
    "holidays_all=sorted(list(set(holidays_all)))\n",
    "overall=overall.sort_values('date_time22')"
   ]
  },
  {
   "cell_type": "code",
   "execution_count": 380,
   "metadata": {
    "ExecuteTime": {
     "end_time": "2019-08-04T09:37:52.710460Z",
     "start_time": "2019-08-04T09:37:51.921909Z"
    },
    "collapsed": true
   },
   "outputs": [],
   "source": [
    "current_holiday_index=0\n",
    "for index in dataleft_index:\n",
    "    curr_date = data_left.at[index, 'date_time22']\n",
    "    if (len(holidays_all)==0):\n",
    "        data_left.at[index, 'no_of_days_till_next_holiday']=-1\n",
    "    else:\n",
    "        if curr_date<=holidays_all[0]:\n",
    "            data_left.at[index, 'no_of_days_till_next_holiday']=holidays_all[0]-curr_date\n",
    "        else:\n",
    "            holidays_all.remove(holidays_all[0])\n",
    "            if (len(holidays_all)==0):\n",
    "                data_left.at[index, 'no_of_days_till_next_holiday']=-1\n",
    "            else:\n",
    "                data_left.at[index, 'no_of_days_till_next_holiday']=holidays_all[0]-curr_date"
   ]
  },
  {
   "cell_type": "code",
   "execution_count": 381,
   "metadata": {
    "ExecuteTime": {
     "end_time": "2019-08-04T09:37:53.271293Z",
     "start_time": "2019-08-04T09:37:52.712428Z"
    },
    "collapsed": false
   },
   "outputs": [
    {
     "data": {
      "text/plain": [
       "(48204, 48)"
      ]
     },
     "execution_count": 381,
     "metadata": {},
     "output_type": "execute_result"
    }
   ],
   "source": [
    "overall=overall.drop('no_of_days_till_next_holiday',axis=1)\n",
    "overall=pd.merge(overall,data_left,how='left',on='date_time22')\n",
    "overall=overall.drop('no_of_days_till_next_festival_x',axis=1)\n",
    "overall.shape"
   ]
  },
  {
   "cell_type": "code",
   "execution_count": 382,
   "metadata": {
    "ExecuteTime": {
     "end_time": "2019-08-04T09:37:53.295224Z",
     "start_time": "2019-08-04T09:37:53.276729Z"
    },
    "collapsed": true
   },
   "outputs": [],
   "source": [
    "train=overall.loc[:sep-1]\n",
    "test=overall.loc[sep:]"
   ]
  },
  {
   "cell_type": "markdown",
   "metadata": {},
   "source": [
    "# Weather Description Mean After Shifting it by 1hr up and down"
   ]
  },
  {
   "cell_type": "code",
   "execution_count": 383,
   "metadata": {
    "ExecuteTime": {
     "end_time": "2019-08-04T09:37:54.595302Z",
     "start_time": "2019-08-04T09:37:53.300125Z"
    },
    "collapsed": true
   },
   "outputs": [],
   "source": [
    "train['weather_description1']=train['weather_description'].shift(-1)\n",
    "test['weather_description1']=test['weather_description'].shift(-1)"
   ]
  },
  {
   "cell_type": "code",
   "execution_count": 384,
   "metadata": {
    "ExecuteTime": {
     "end_time": "2019-08-04T09:37:55.924364Z",
     "start_time": "2019-08-04T09:37:54.597909Z"
    },
    "collapsed": true
   },
   "outputs": [],
   "source": [
    "train.loc[pd.isnull(train['weather_description1']),'weather_description1']=train['weather_description']\n",
    "test.loc[pd.isnull(test['weather_description1']),'weather_description1']=test['weather_description']"
   ]
  },
  {
   "cell_type": "code",
   "execution_count": 385,
   "metadata": {
    "ExecuteTime": {
     "end_time": "2019-08-04T09:37:59.383821Z",
     "start_time": "2019-08-04T09:37:55.927380Z"
    },
    "collapsed": true
   },
   "outputs": [],
   "source": [
    "train,validation,test=meanEncoding(['weather_description1'],\"traffic_volume\",train,test,test,False)"
   ]
  },
  {
   "cell_type": "markdown",
   "metadata": {},
   "source": [
    "# Weather Description Mean After Shifting it by 2hr and 2hr up and down"
   ]
  },
  {
   "cell_type": "code",
   "execution_count": 386,
   "metadata": {
    "ExecuteTime": {
     "end_time": "2019-08-04T09:38:01.637616Z",
     "start_time": "2019-08-04T09:37:59.383821Z"
    },
    "collapsed": true
   },
   "outputs": [],
   "source": [
    "train['weather_description2']=train['weather_description'].shift(1)\n",
    "test['weather_description2']=test['weather_description'].shift(1)\n",
    "train.loc[pd.isnull(train['weather_description2']),'weather_description2']=train['weather_description']\n",
    "test.loc[pd.isnull(test['weather_description2']),'weather_description2']=test['weather_description']"
   ]
  },
  {
   "cell_type": "code",
   "execution_count": 387,
   "metadata": {
    "ExecuteTime": {
     "end_time": "2019-08-04T09:38:04.920629Z",
     "start_time": "2019-08-04T09:38:01.641610Z"
    },
    "collapsed": true
   },
   "outputs": [],
   "source": [
    "train,validation,test=meanEncoding(['weather_description2'],\"traffic_volume\",train,test,test,False)"
   ]
  },
  {
   "cell_type": "code",
   "execution_count": 388,
   "metadata": {
    "ExecuteTime": {
     "end_time": "2019-08-04T09:38:08.177083Z",
     "start_time": "2019-08-04T09:38:04.920629Z"
    },
    "collapsed": true
   },
   "outputs": [],
   "source": [
    "train,validation,test=labelEncoding([\"weather_description1\",\"weather_description2\"],train,test,test)"
   ]
  },
  {
   "cell_type": "code",
   "execution_count": null,
   "metadata": {
    "collapsed": true
   },
   "outputs": [],
   "source": []
  },
  {
   "cell_type": "markdown",
   "metadata": {},
   "source": [
    "#  Weather_Type traffic_volume Mean after Shifting it by 1hr and 2hr up and down."
   ]
  },
  {
   "cell_type": "code",
   "execution_count": 389,
   "metadata": {
    "ExecuteTime": {
     "end_time": "2019-08-04T09:38:10.851908Z",
     "start_time": "2019-08-04T09:38:08.179075Z"
    },
    "collapsed": true
   },
   "outputs": [],
   "source": [
    "train['weather_type1']=train['weather_type'].shift(-1)\n",
    "test['weather_type1']=test['weather_type'].shift(-1)\n",
    "train.loc[pd.isnull(train['weather_type1']),'weather_type1']=train['weather_type']\n",
    "test.loc[pd.isnull(test['weather_type1']),'weather_type1']=test['weather_type']"
   ]
  },
  {
   "cell_type": "code",
   "execution_count": 390,
   "metadata": {
    "ExecuteTime": {
     "end_time": "2019-08-04T09:38:25.168598Z",
     "start_time": "2019-08-04T09:38:10.856117Z"
    },
    "collapsed": true
   },
   "outputs": [],
   "source": [
    "train,validation,test=meanEncoding(['weather_type1'],\"traffic_volume\",train,test,test,False)\n",
    "train['weather_type2']=train['weather_type'].shift(1)\n",
    "test['weather_type2']=test['weather_type'].shift(1)\n",
    "train.loc[pd.isnull(train['weather_type2']),'weather_type2']=train['weather_type']\n",
    "test.loc[pd.isnull(test['weather_type2']),'weather_type2']=test['weather_type']\n",
    "train,validation,test=meanEncoding(['weather_type2'],\"traffic_volume\",train,test,test,False)\n",
    "train,validation,test=labelEncoding([\"weather_type1\",\"weather_type2\"],train,test,test)"
   ]
  },
  {
   "cell_type": "markdown",
   "metadata": {},
   "source": [
    "# "
   ]
  },
  {
   "cell_type": "code",
   "execution_count": null,
   "metadata": {
    "collapsed": true
   },
   "outputs": [],
   "source": [
    "train['wind_speed_boolean']=train['wind_speed'].apply(lambda x:0 if x<10 else 1)\n",
    "test['wind_speed']=test['wind_speed'].apply(lambda x:0 if x<10 else 1)"
   ]
  },
  {
   "cell_type": "markdown",
   "metadata": {},
   "source": [
    "# Correlation among columns"
   ]
  },
  {
   "cell_type": "code",
   "execution_count": 391,
   "metadata": {
    "ExecuteTime": {
     "end_time": "2019-08-04T09:38:25.692764Z",
     "start_time": "2019-08-04T09:38:25.171011Z"
    },
    "collapsed": false
   },
   "outputs": [
    {
     "data": {
      "text/plain": [
       "traffic_volume                                        1.000000\n",
       "day_of_week_hour_mean_encoding                        0.964523\n",
       "hour_day_of_week_mean_encoding                        0.964523\n",
       "hour_weather_type_day_of_week_mean_encoding           0.964057\n",
       "day_of_week_hour_weather_type_mean_encoding           0.964057\n",
       "hour_weather_description_day_of_week_mean_encoding    0.962744\n",
       "day_of_week_hour_weather_description_mean_encoding    0.962744\n",
       "hour_mean_encoding                                    0.878288\n",
       "hour_weather_type_mean_encoding                       0.877686\n",
       "hour_weather_description_mean_encoding                0.876960\n",
       "hour                                                  0.348867\n",
       "day_of_week_mean_encoding                             0.232032\n",
       "day_of_week_expanding_encoding                        0.228819\n",
       "month_weather_description_mean_encoding               0.160463\n",
       "month_weather_type_mean_encoding                      0.139886\n",
       "weather_description_mean_encoding                     0.133337\n",
       "temperature                                           0.127871\n",
       "weather_description_expanding_encoding                0.123822\n",
       "weather_type_mean_encoding                            0.112909\n",
       "weather_type_expanding_encoding                       0.106740\n",
       "is_holiday_mean_encoding                              0.079046\n",
       "is_holiday_expanding_encoding                         0.073819\n",
       "weather_description2_mean_encoding                    0.048333\n",
       "weather_description1_mean_encoding                    0.045193\n",
       "clouds_all                                            0.037922\n",
       "weather_type2_mean_encoding                           0.032890\n",
       "no_of_days_till_next_holiday                          0.030976\n",
       "weather_type1_mean_encoding                           0.029464\n",
       "no_of_days_till_next_festival_y                       0.024754\n",
       "humidity                                              0.016455\n",
       "wind_speed                                            0.016329\n",
       "wind_direction                                        0.014278\n",
       "rain_p_h                                              0.005642\n",
       "weather_description2_label_encoded                    0.001991\n",
       "dew_point                                             0.001348\n",
       "visibility_in_miles                                   0.001348\n",
       "snow_p_h                                              0.001197\n",
       "air_pollution_index                                  -0.003751\n",
       "weather_description1_label_encoded                   -0.009791\n",
       "date_time22                                          -0.010222\n",
       "weather_type1_label_encoded                          -0.011903\n",
       "month                                                -0.015371\n",
       "weather_type2_label_encoded                          -0.017006\n",
       "day                                                  -0.018919\n",
       "weather_type_label_encoded                           -0.039530\n",
       "weather_description_label_encoded                    -0.053461\n",
       "is_holiday_boolean                                   -0.061569\n",
       "is_weekend_boolean                                   -0.221928\n",
       "holidays                                             -0.238052\n",
       "Name: traffic_volume, dtype: float64"
      ]
     },
     "execution_count": 391,
     "metadata": {},
     "output_type": "execute_result"
    }
   ],
   "source": [
    "\n",
    "corr_matrix = train.corr()\n",
    "corr_matrix[\"traffic_volume\"].sort_values(ascending=False)"
   ]
  },
  {
   "cell_type": "markdown",
   "metadata": {},
   "source": [
    "# Filling Null values in Rain_p_h and Snow_p_h using Weather description column"
   ]
  },
  {
   "cell_type": "code",
   "execution_count": 392,
   "metadata": {
    "ExecuteTime": {
     "end_time": "2019-08-04T09:38:26.421421Z",
     "start_time": "2019-08-04T09:38:25.696393Z"
    },
    "collapsed": true
   },
   "outputs": [],
   "source": [
    "train.loc[((train['rain_p_h']==0 )&(train['weather_type']==\"Rain\")),'rain_p_h']=train.groupby('weather_description').rain_p_h.transform('mean')"
   ]
  },
  {
   "cell_type": "code",
   "execution_count": 393,
   "metadata": {
    "ExecuteTime": {
     "end_time": "2019-08-04T09:38:27.070664Z",
     "start_time": "2019-08-04T09:38:26.423460Z"
    },
    "collapsed": true
   },
   "outputs": [],
   "source": [
    "train.loc[((train['snow_p_h']==0 )&(train['weather_type']==\"Snow\")),'snow_p_h']=train.groupby('weather_description').snow_p_h.transform('mean')"
   ]
  },
  {
   "cell_type": "code",
   "execution_count": 394,
   "metadata": {
    "ExecuteTime": {
     "end_time": "2019-08-04T09:38:27.682898Z",
     "start_time": "2019-08-04T09:38:27.071663Z"
    },
    "collapsed": true
   },
   "outputs": [],
   "source": [
    "test.loc[((test['snow_p_h']==0 )&(test['weather_type']==\"Snow\")),'snow_p_h']=test.groupby('weather_description').snow_p_h.transform('mean')"
   ]
  },
  {
   "cell_type": "code",
   "execution_count": 395,
   "metadata": {
    "ExecuteTime": {
     "end_time": "2019-08-04T09:38:28.240477Z",
     "start_time": "2019-08-04T09:38:27.682898Z"
    },
    "collapsed": true
   },
   "outputs": [],
   "source": [
    "test.loc[((test['rain_p_h']==0 )&(test['weather_type']==\"Rain\")),'rain_p_h']=test.groupby('weather_description').rain_p_h.transform('mean')"
   ]
  },
  {
   "cell_type": "code",
   "execution_count": 396,
   "metadata": {
    "ExecuteTime": {
     "end_time": "2019-08-04T09:38:28.250719Z",
     "start_time": "2019-08-04T09:38:28.242474Z"
    },
    "collapsed": true
   },
   "outputs": [],
   "source": [
    "#test['rain_p_h_imputed'] = np.where(((test.rain_p_h==0)&(test['weather_type']==\"Rain\")), train.groupby('weather_description').rain_p_h.mean(), test.rain_p_h)"
   ]
  },
  {
   "cell_type": "code",
   "execution_count": 397,
   "metadata": {
    "ExecuteTime": {
     "end_time": "2019-08-04T09:38:28.412851Z",
     "start_time": "2019-08-04T09:38:28.255119Z"
    },
    "collapsed": true
   },
   "outputs": [],
   "source": [
    "#test.isnull().sum()"
   ]
  },
  {
   "cell_type": "markdown",
   "metadata": {},
   "source": [
    "# Summing Rain_p_h and Snow_p_h"
   ]
  },
  {
   "cell_type": "code",
   "execution_count": 398,
   "metadata": {
    "ExecuteTime": {
     "end_time": "2019-08-04T09:38:29.684730Z",
     "start_time": "2019-08-04T09:38:28.414219Z"
    },
    "collapsed": true
   },
   "outputs": [],
   "source": [
    "train['rain_snow']=train['rain_p_h']+train['snow_p_h']\n",
    "test['rain_snow']=test['rain_p_h']+test['snow_p_h']"
   ]
  },
  {
   "cell_type": "code",
   "execution_count": null,
   "metadata": {
    "ExecuteTime": {
     "end_time": "2019-08-04T09:38:29.711258Z",
     "start_time": "2019-08-04T09:38:29.684730Z"
    },
    "collapsed": true
   },
   "outputs": [],
   "source": []
  },
  {
   "cell_type": "code",
   "execution_count": 400,
   "metadata": {
    "ExecuteTime": {
     "end_time": "2019-08-04T09:38:58.161437Z",
     "start_time": "2019-08-04T09:38:55.790534Z"
    },
    "collapsed": true
   },
   "outputs": [],
   "source": [
    "train['rain_p_h1']=train['rain_p_h'].shift(1)\n",
    "test['rain_p_h1']=test['rain_p_h'].shift(1)\n",
    "train.loc[pd.isnull(train['rain_p_h1']),'rain_p_h1']=train['rain_p_h']\n",
    "test.loc[pd.isnull(test['rain_p_h1']),'rain_p_h1']=test['rain_p_h']\n"
   ]
  },
  {
   "cell_type": "code",
   "execution_count": 401,
   "metadata": {
    "ExecuteTime": {
     "end_time": "2019-08-04T09:39:00.511296Z",
     "start_time": "2019-08-04T09:38:58.166374Z"
    },
    "collapsed": true
   },
   "outputs": [],
   "source": [
    "train['rain_p_h2']=train['rain_p_h'].shift(-1)\n",
    "test['rain_p_h2']=test['rain_p_h'].shift(-1)\n",
    "train.loc[pd.isnull(train['rain_p_h2']),'rain_p_h2']=train['rain_p_h']\n",
    "test.loc[pd.isnull(test['rain_p_h2']),'rain_p_h2']=test['rain_p_h']\n"
   ]
  },
  {
   "cell_type": "code",
   "execution_count": null,
   "metadata": {
    "collapsed": true
   },
   "outputs": [],
   "source": []
  },
  {
   "cell_type": "markdown",
   "metadata": {},
   "source": [
    "# Genetic Algo And Other Feature Importance"
   ]
  },
  {
   "cell_type": "code",
   "execution_count": 469,
   "metadata": {
    "ExecuteTime": {
     "end_time": "2019-08-04T14:33:15.228898Z",
     "start_time": "2019-08-04T14:33:07.848036Z"
    },
    "collapsed": false
   },
   "outputs": [
    {
     "name": "stdout",
     "output_type": "stream",
     "text": [
      "[0.11920588 0.00591263 0.00336745 0.00255437 0.01466946 0.00687222\n",
      " 0.19270809 0.01154684 0.00590547 0.00319344 0.4711431  0.00231019\n",
      " 0.00380282 0.1443932  0.00150557 0.00505995 0.00278338 0.00306594]\n"
     ]
    },
    {
     "data": {
      "image/png": "[encoded data removed]",
      "text/plain": [
       "<Figure size 432x288 with 1 Axes>"
      ]
     },
     "metadata": {
      "needs_background": "light"
     },
     "output_type": "display_data"
    }
   ],
   "source": [
    "from sklearn.ensemble import ExtraTreesRegressor\n",
    "import matplotlib.pyplot as plt\n",
    "model = ExtraTreesRegressor()\n",
    "model.fit(train[features],train['traffic_volume'])\n",
    "print(model.feature_importances_) #use inbuilt class feature_importances of tree based classifiers\n",
    "#plot graph of feature importances for better visualization\n",
    "feat_importances = pd.Series(model.feature_importances_, index=features)\n",
    "feat_importances.nlargest(30).plot(kind='barh')\n",
    "plt.show()"
   ]
  },
  {
   "cell_type": "code",
   "execution_count": 474,
   "metadata": {
    "ExecuteTime": {
     "end_time": "2019-08-04T14:35:55.907466Z",
     "start_time": "2019-08-04T14:35:55.817794Z"
    },
    "collapsed": true
   },
   "outputs": [],
   "source": [
    "from deap import base, creator\n",
    "import random\n",
    "import numpy as np\n",
    "from deap import tools\n",
    "#import FeatureFitness as ff\n",
    "\n",
    "import logging\n",
    "logging.basicConfig(filename='gm_model.log',level=logging.DEBUG)\n",
    "\n",
    "class FeatureSelectionGA:\n",
    "   \n",
    "\n",
    "    def __init__(self, model, x, y, cv_split=5, verbose=0):\n",
    "       \n",
    "        self.model = model\n",
    "        self.n_features = x.shape[1]\n",
    "        self.toolbox = None\n",
    "        self.creator = self._create()\n",
    "        self.cv_split = cv_split\n",
    "        self.x = x.values\n",
    "        self.y = y.values\n",
    "        self.verbose = verbose\n",
    "        if self.verbose == 1:\n",
    "            print(\"Model {} will select best features among {} features using cv_split :{}.\".format(model, x.shape[1],\n",
    "                                                                                                    cv_split))\n",
    "            print(\"Shape od train_x: {} and target: {}\".format(x.shape, y.shape))\n",
    "        self.final_fitness = []\n",
    "        self.fitness_in_generation = {}\n",
    "        self.best_ind = None\n",
    "\n",
    "    def evaluate(self, individual):\n",
    "         \n",
    "        fit_obj = FitenessFunction(self.cv_split)\n",
    "        np_ind = np.asarray(individual)\n",
    "        if np.sum(np_ind) == 0:\n",
    "            fitness = 0.0\n",
    "        else:\n",
    "            feature_idx = np.where(np_ind == 1)[0]\n",
    "            fitness = fit_obj.calculate_fitness(self.model, self.x[:, feature_idx], self.y)\n",
    "\n",
    "        if self.verbose == 1:\n",
    "            print(\"Individual: {}  Fitness_score: {} \".format(individual, fitness))\n",
    "\n",
    "        return fitness,\n",
    "\n",
    "    def _create(self):\n",
    "        creator.create(\"FeatureSelect\", base.Fitness, weights=(1.0,))\n",
    "        creator.create(\"Individual\", list, fitness=creator.FeatureSelect)\n",
    "        return creator\n",
    "\n",
    "    def create_toolbox(self):\n",
    "    \n",
    "        self._init_toolbox()\n",
    "        return toolbox\n",
    "\n",
    "    def register_toolbox(self, toolbox):\n",
    "     \n",
    "        toolbox.register(\"evaluate\", self.evaluate)\n",
    "        self.toolbox = toolbox\n",
    "\n",
    "    def _init_toolbox(self):\n",
    "        toolbox = base.Toolbox()\n",
    "        toolbox.register(\"attr_bool\", random.randint, 0, 1)\n",
    "        # Structure initializers\n",
    "        toolbox.register(\"individual\", tools.initRepeat, creator.Individual, toolbox.attr_bool, self.n_features)\n",
    "        toolbox.register(\"population\", tools.initRepeat, list, toolbox.individual)\n",
    "        return toolbox\n",
    "\n",
    "    def _default_toolbox(self):\n",
    "        toolbox = self._init_toolbox()\n",
    "        toolbox.register(\"mate\", tools.cxTwoPoint)\n",
    "        toolbox.register(\"mutate\", tools.mutFlipBit, indpb=0.1)\n",
    "        toolbox.register(\"select\", tools.selTournament, tournsize=3)\n",
    "        toolbox.register(\"evaluate\", self.evaluate)\n",
    "        return toolbox\n",
    "\n",
    "    def get_final_scores(self, pop, fits):\n",
    "        self.final_fitness = list(zip(pop, fits))\n",
    "\n",
    "    def generate(self, n_pop, cxpb=0.5, mutxpb=0.2, ngen=5, set_toolbox=False):\n",
    "\n",
    "       \n",
    "\n",
    "        if self.verbose == 1:\n",
    "            print(\n",
    "                \"Population: {}, crossover_probablity: {}, mutation_probablity: {}, total generations: {}\".format(n_pop,\n",
    "                                                                                                                  cxpb,\n",
    "                                                                                                                  mutxpb,\n",
    "                                                                                                                            ngen))\n",
    "            logging.debug(\n",
    "                \"Population: {}, crossover_probablity: {}, mutation_probablity: {}, total generations: {}\".format(n_pop,\n",
    "                                                                                                                  cxpb,\n",
    "                                                                                                                  mutxpb,\n",
    "                                                                                                                  ngen))\n",
    "\n",
    "        if not set_toolbox:\n",
    "            self.toolbox = self._default_toolbox()\n",
    "        else:\n",
    "            raise Exception(\n",
    "                \"Please create a toolbox.Use create_toolbox to create and register_toolbox to register. Else set set_toolbox = False to use defualt toolbox\")\n",
    "        pop = self.toolbox.population(n_pop)\n",
    "        CXPB, MUTPB, NGEN = cxpb, mutxpb, ngen\n",
    "\n",
    "        # Evaluate the entire population\n",
    "        print(\"EVOLVING.......\")\n",
    "        logging.debug(\"EVOLVING.......\")\n",
    "        fitnesses = list(map(self.toolbox.evaluate, pop))\n",
    "\n",
    "        for ind, fit in zip(pop, fitnesses):\n",
    "            ind.fitness.values = fit\n",
    "\n",
    "        for g in range(NGEN):\n",
    "            print(\"-- GENERATION {} --\".format(g + 1))\n",
    "            logging.debug(\"-- GENERATION {} --\".format(g + 1))\n",
    "            offspring = self.toolbox.select(pop, len(pop))\n",
    "            self.fitness_in_generation[str(g + 1)] = max([ind.fitness.values[0] for ind in pop])\n",
    "            # Clone the selected individuals\n",
    "            offspring = list(map(self.toolbox.clone, offspring))\n",
    "\n",
    "            # Apply crossover and mutation on the offspring\n",
    "            for child1, child2 in zip(offspring[::2], offspring[1::2]):\n",
    "                if random.random() < CXPB:\n",
    "                    self.toolbox.mate(child1, child2)\n",
    "                    del child1.fitness.values\n",
    "                    del child2.fitness.values\n",
    "\n",
    "            for mutant in offspring:\n",
    "                if random.random() < MUTPB:\n",
    "                    self.toolbox.mutate(mutant)\n",
    "                    del mutant.fitness.values\n",
    "\n",
    "            # Evaluate the individuals with an invalid fitness\n",
    "            weak_ind = [ind for ind in offspring if not ind.fitness.valid]\n",
    "            fitnesses = list(map(self.toolbox.evaluate, weak_ind))\n",
    "            for ind, fit in zip(weak_ind, fitnesses):\n",
    "                ind.fitness.values = fit\n",
    "            print(\"Evaluated %i individuals\" % len(weak_ind))\n",
    "            logging.debug(\"Evaluated %i individuals\" % len(weak_ind))\n",
    "\n",
    "            # The population is entirely replaced by the offspring\n",
    "            pop[:] = offspring\n",
    "\n",
    "            # Gather all the fitnesses in one list and print the stats\n",
    "        fits = [ind.fitness.values[0] for ind in pop]\n",
    "\n",
    "        length = len(pop)\n",
    "        mean = sum(fits) / length\n",
    "        sum2 = sum(x * x for x in fits)\n",
    "        std = abs(sum2 / length - mean ** 2) ** 0.5\n",
    "        if self.verbose == 1:\n",
    "            print(\"  Min %s\" % min(fits))\n",
    "            print(\"  Max %s\" % max(fits))\n",
    "            print(\"  Avg %s\" % mean)\n",
    "            print(\"  Std %s\" % std)\n",
    "\n",
    "        print(\"-- Only the fittest survives --\")\n",
    "        logging.debug(\"-- Only the fittest survives --\")\n",
    "\n",
    "        self.best_ind = tools.selBest(pop, 1)[0]\n",
    "        print(\"Best individual is %s, %s\" % (self.best_ind, self.best_ind.fitness.values))\n",
    "        logging.debug(\"Best individual is %s, %s\" % (self.best_ind, self.best_ind.fitness.values))\n",
    "        self.get_final_scores(pop, fits)\n",
    "\n",
    "        return pop,self.best_ind\n",
    "\n",
    "\n",
    "\n",
    "from sklearn.model_selection import StratifiedKFold\n",
    "import numpy as np\n",
    "from sklearn.metrics import f1_score\n",
    "from sklearn.metrics import r2_score\n",
    "from sklearn.metrics import mean_squared_error \n",
    "import logging\n",
    "\n",
    "\n",
    "class FitenessFunction:\n",
    "\n",
    "    def __init__(self, n_splits=5, *args, **kwargs):\n",
    "        self.n_splits = n_splits\n",
    "\n",
    "    def calculate_fitness(self, model, x, y):\n",
    "        cv_set = np.repeat(-1., x.shape[0])\n",
    "        skf = StratifiedKFold(n_splits=self.n_splits)\n",
    "        for train_index, test_index in skf.split(x, y):\n",
    "            x_train, x_test = x[train_index], x[test_index]\n",
    "            y_train, y_test = y[train_index], y[test_index]\n",
    "            if x_train.shape[0] != y_train.shape[0]:\n",
    "                raise Exception()\n",
    "            model.fit(x_train, y_train)\n",
    "            predicted_y = model.predict(x_test)\n",
    "            cv_set[test_index] = predicted_y\n",
    "        r=mean_squared_error(y,cv_set)\n",
    "        return -r\n",
    "\n",
    "\n"
   ]
  },
  {
   "cell_type": "code",
   "execution_count": 475,
   "metadata": {
    "ExecuteTime": {
     "end_time": "2019-08-04T14:36:58.277178Z",
     "start_time": "2019-08-04T14:36:58.167103Z"
    },
    "collapsed": true
   },
   "outputs": [],
   "source": [
    "def geneticFeatureSeelction(model,train,features,target,n_pop,ngen):\n",
    "        x_train,y_train=train[features],train[target]\n",
    "        fsga = FeatureSelectionGA(model, x_train, y_train)\n",
    "        pop ,best_ind= fsga.generate(n_pop=n_pop, ngen=ngen)\n",
    "        po = best_ind\n",
    "        genetic_features=[]\n",
    "        listb=features\n",
    "        for i in range(len(po)):\n",
    "            if po[i] == 1 :\n",
    "                genetic_features.append(listb[i])\n",
    "\n",
    "        print(genetic_features)\n",
    "        \n",
    "        return genetic_features"
   ]
  },
  {
   "cell_type": "code",
   "execution_count": 478,
   "metadata": {
    "ExecuteTime": {
     "end_time": "2019-08-04T16:33:41.069369Z",
     "start_time": "2019-08-04T14:54:32.518472Z"
    },
    "collapsed": false
   },
   "outputs": [
    {
     "name": "stdout",
     "output_type": "stream",
     "text": [
      "EVOLVING.......\n",
      "-- GENERATION 1 --\n",
      "Evaluated 5 individuals\n",
      "-- GENERATION 2 --\n",
      "Evaluated 2 individuals\n",
      "-- GENERATION 3 --\n",
      "Evaluated 6 individuals\n",
      "-- GENERATION 4 --\n",
      "Evaluated 4 individuals\n",
      "-- GENERATION 5 --\n",
      "Evaluated 6 individuals\n",
      "-- GENERATION 6 --\n",
      "Evaluated 6 individuals\n",
      "-- GENERATION 7 --\n",
      "Evaluated 6 individuals\n",
      "-- GENERATION 8 --\n",
      "Evaluated 6 individuals\n",
      "-- GENERATION 9 --\n",
      "Evaluated 7 individuals\n",
      "-- GENERATION 10 --\n",
      "Evaluated 6 individuals\n",
      "-- Only the fittest survives --\n",
      "Best individual is [1, 1, 0, 0, 1, 1, 1, 1, 1, 0, 1, 1, 0, 1, 1, 1, 0, 1], (-156394.8587616937,)\n",
      "['hour_mean_encoding', 'temperature', 'is_weekend_boolean', 'is_holiday_boolean', 'day_of_week_hour_weather_type_mean_encoding', 'is_holiday_mean_encoding', 'month', 'hour_day_of_week_mean_encoding', 'weather_type_mean_encoding', 'hour_weather_type_mean_encoding', 'no_of_days_till_next_holiday', 'no_of_days_till_next_festival_y', 'weather_description2_mean_encoding']\n"
     ]
    }
   ],
   "source": [
    "model=RandomForestRegressor(n_estimators=200,max_depth=12,max_features=0.8)\n",
    "x=geneticFeatureSeelction(model,train,features,\"traffic_volume\",8,10)"
   ]
  },
  {
   "cell_type": "code",
   "execution_count": null,
   "metadata": {
    "collapsed": true
   },
   "outputs": [],
   "source": []
  },
  {
   "cell_type": "code",
   "execution_count": null,
   "metadata": {
    "collapsed": true
   },
   "outputs": [],
   "source": []
  },
  {
   "cell_type": "code",
   "execution_count": null,
   "metadata": {
    "collapsed": true
   },
   "outputs": [],
   "source": []
  },
  {
   "cell_type": "code",
   "execution_count": null,
   "metadata": {
    "collapsed": true
   },
   "outputs": [],
   "source": []
  },
  {
   "cell_type": "markdown",
   "metadata": {},
   "source": [
    "# Features Used"
   ]
  },
  {
   "cell_type": "code",
   "execution_count": 402,
   "metadata": {
    "ExecuteTime": {
     "end_time": "2019-08-04T09:39:00.523529Z",
     "start_time": "2019-08-04T09:39:00.517165Z"
    },
    "collapsed": true
   },
   "outputs": [],
   "source": [
    "#train.columns"
   ]
  },
  {
   "cell_type": "code",
   "execution_count": 479,
   "metadata": {
    "ExecuteTime": {
     "end_time": "2019-08-04T17:45:14.205958Z",
     "start_time": "2019-08-04T17:45:13.752899Z"
    },
    "collapsed": true
   },
   "outputs": [],
   "source": [
    "features=[\n",
    "          'hour_mean_encoding',\n",
    "          'temperature',\n",
    "          #'wind_direction',\n",
    "          'wind_speed',\n",
    "          'humidity',\n",
    "          #'visibility_in_miles',\n",
    "          'dew_point',\n",
    "          'is_weekend_boolean',\n",
    "          'is_holiday_boolean',\n",
    "          'day_of_week_hour_weather_type_mean_encoding',\n",
    "          'is_holiday_mean_encoding',\n",
    "          'month',\n",
    "          'month_weather_description_mean_encoding',\n",
    "          'hour_day_of_week_mean_encoding',\n",
    "          \n",
    "          'weather_type_mean_encoding',\n",
    "          #'day_of_week_hour_mean_encoding',\n",
    "          'day_of_week_mean_encoding',\n",
    "          'hour_weather_type_mean_encoding','no_of_days_till_next_holiday',\n",
    "          'no_of_days_till_next_festival_y',\n",
    "          #'holidays'\n",
    "           'weather_description1_mean_encoding',\n",
    "           'weather_description2_mean_encoding',\n",
    "           'rain_p_h1',\n",
    "           'rain_p_h2',\n",
    "           'snow_p_h' \n",
    "           #'rain_snow'\n",
    "           #'weather_type1_mean_encoding',\n",
    "           #'weather_type2_mean_encoding' \n",
    "          \n",
    "          \n",
    "         ]\n",
    "\n",
    "final_features=features"
   ]
  },
  {
   "cell_type": "markdown",
   "metadata": {},
   "source": [
    "# XG boost"
   ]
  },
  {
   "cell_type": "code",
   "execution_count": 453,
   "metadata": {
    "ExecuteTime": {
     "end_time": "2019-08-04T09:55:23.193142Z",
     "start_time": "2019-08-04T09:54:56.458163Z"
    },
    "collapsed": false
   },
   "outputs": [
    {
     "data": {
      "text/plain": [
       "XGBRegressor(base_score=0.5, booster='gbtree', colsample_bylevel=1,\n",
       "       colsample_bytree=0.5, gamma=1, learning_rate=0.04, max_delta_step=0,\n",
       "       max_depth=6, min_child_weight=1, missing=None, n_estimators=250,\n",
       "       n_jobs=1, nthread=None, objective='reg:linear', random_state=0,\n",
       "       reg_alpha=0, reg_lambda=1, scale_pos_weight=1, seed=0, silent=True,\n",
       "       subsample=1)"
      ]
     },
     "execution_count": 453,
     "metadata": {},
     "output_type": "execute_result"
    }
   ],
   "source": [
    "import xgboost\n",
    "best_xgb_model = xgboost.XGBRegressor(colsample_bytree=0.5,\n",
    "                 gamma=1,                 \n",
    "                 learning_rate=0.04,\n",
    "                 max_depth=6,\n",
    "                 n_estimators=250,                                                                    \n",
    "                 seed=0)\n",
    "best_xgb_model.fit(train[final_features],train[\"traffic_volume\"])"
   ]
  },
  {
   "cell_type": "code",
   "execution_count": 465,
   "metadata": {
    "ExecuteTime": {
     "end_time": "2019-08-04T14:08:31.538529Z",
     "start_time": "2019-08-04T14:08:29.539312Z"
    },
    "collapsed": false
   },
   "outputs": [
    {
     "name": "stdout",
     "output_type": "stream",
     "text": [
      "333.9359191618962\n"
     ]
    }
   ],
   "source": [
    "import math\n",
    "from sklearn.metrics import mean_squared_error,mean_squared_log_error\n",
    "\n",
    "pred_val_xgb=best_xgb_model.predict(train[final_features])\n",
    "print(math.sqrt(mean_squared_error(train['traffic_volume'],pred_val_xgb)))\n",
    "#print(math.sqrt(mean_squared_log_error(train['traffic_volume'],pred_val_xgb)))\n",
    "\n"
   ]
  },
  {
   "cell_type": "code",
   "execution_count": 450,
   "metadata": {
    "ExecuteTime": {
     "end_time": "2019-08-04T09:54:39.606687Z",
     "start_time": "2019-08-04T09:54:39.595442Z"
    },
    "collapsed": true
   },
   "outputs": [],
   "source": [
    "#np.where(pred_val_xgb<=0)"
   ]
  },
  {
   "cell_type": "code",
   "execution_count": null,
   "metadata": {
    "ExecuteTime": {
     "end_time": "2019-07-30T22:33:38.390206Z",
     "start_time": "2019-07-30T22:33:38.371257Z"
    },
    "collapsed": true
   },
   "outputs": [],
   "source": []
  },
  {
   "cell_type": "markdown",
   "metadata": {},
   "source": [
    "# Random Forest "
   ]
  },
  {
   "cell_type": "code",
   "execution_count": 451,
   "metadata": {
    "ExecuteTime": {
     "end_time": "2019-08-04T09:54:39.771275Z",
     "start_time": "2019-08-04T09:54:39.614913Z"
    },
    "collapsed": false
   },
   "outputs": [
    {
     "data": {
      "text/plain": [
       "(array([], dtype=int64),)"
      ]
     },
     "execution_count": 451,
     "metadata": {},
     "output_type": "execute_result"
    }
   ],
   "source": [
    "np.where(np.isnan(np.log(train['traffic_volume']))==True)"
   ]
  },
  {
   "cell_type": "code",
   "execution_count": 408,
   "metadata": {
    "ExecuteTime": {
     "end_time": "2019-08-04T09:42:40.607167Z",
     "start_time": "2019-08-04T09:40:46.550529Z"
    },
    "collapsed": false
   },
   "outputs": [
    {
     "data": {
      "text/plain": [
       "RandomForestRegressor(bootstrap=True, criterion='mse', max_depth=12,\n",
       "           max_features=0.8, max_leaf_nodes=None,\n",
       "           min_impurity_decrease=0.0, min_impurity_split=None,\n",
       "           min_samples_leaf=1, min_samples_split=2,\n",
       "           min_weight_fraction_leaf=0.0, n_estimators=350, n_jobs=None,\n",
       "           oob_score=False, random_state=None, verbose=0, warm_start=False)"
      ]
     },
     "execution_count": 408,
     "metadata": {},
     "output_type": "execute_result"
    }
   ],
   "source": [
    "import math\n",
    "from sklearn.ensemble import RandomForestRegressor\n",
    "model_reg=RandomForestRegressor(n_estimators=350,max_depth=12,max_features=0.8)\n",
    "model_reg.fit(train[final_features],train['traffic_volume'])"
   ]
  },
  {
   "cell_type": "code",
   "execution_count": 409,
   "metadata": {
    "ExecuteTime": {
     "end_time": "2019-08-04T09:42:43.688614Z",
     "start_time": "2019-08-04T09:42:43.678320Z"
    },
    "collapsed": true
   },
   "outputs": [],
   "source": [
    "#model_reg.predict(test[final_features])"
   ]
  },
  {
   "cell_type": "code",
   "execution_count": 410,
   "metadata": {
    "ExecuteTime": {
     "end_time": "2019-08-04T09:42:47.700723Z",
     "start_time": "2019-08-04T09:42:44.184813Z"
    },
    "collapsed": false
   },
   "outputs": [
    {
     "name": "stdout",
     "output_type": "stream",
     "text": [
      "300.07409553612666\n",
      "0.24387598071905234\n"
     ]
    }
   ],
   "source": [
    "import math\n",
    "from sklearn.metrics import mean_squared_error,mean_squared_log_error\n",
    "pred_val_reg=model_reg.predict(train[final_features])\n",
    "print(math.sqrt(mean_squared_error(train['traffic_volume'],pred_val_reg)))\n",
    "print(math.sqrt(mean_squared_log_error(train['traffic_volume'],pred_val_reg)))\n"
   ]
  },
  {
   "cell_type": "markdown",
   "metadata": {},
   "source": [
    "# Light gbm"
   ]
  },
  {
   "cell_type": "code",
   "execution_count": null,
   "metadata": {
    "ExecuteTime": {
     "end_time": "2019-08-03T09:18:41.596978Z",
     "start_time": "2019-08-03T09:18:41.589997Z"
    },
    "collapsed": true
   },
   "outputs": [],
   "source": []
  },
  {
   "cell_type": "code",
   "execution_count": 455,
   "metadata": {
    "ExecuteTime": {
     "end_time": "2019-08-04T10:02:27.078071Z",
     "start_time": "2019-08-04T10:02:27.064147Z"
    },
    "collapsed": true
   },
   "outputs": [],
   "source": [
    "import lightgbm as lgbm\n",
    "model_lgb = lgbm.LGBMRegressor(max_depth=12,n_estimator=1000,learning_rate=0.1,colsample_bytree=0.867)"
   ]
  },
  {
   "cell_type": "code",
   "execution_count": 456,
   "metadata": {
    "ExecuteTime": {
     "end_time": "2019-08-04T10:02:29.043335Z",
     "start_time": "2019-08-04T10:02:27.726047Z"
    },
    "collapsed": false
   },
   "outputs": [
    {
     "data": {
      "text/plain": [
       "LGBMRegressor(boosting_type='gbdt', class_weight=None, colsample_bytree=0.867,\n",
       "       importance_type='split', learning_rate=0.1, max_depth=12,\n",
       "       min_child_samples=20, min_child_weight=0.001, min_split_gain=0.0,\n",
       "       n_estimator=1000, n_estimators=100, n_jobs=-1, num_leaves=31,\n",
       "       objective=None, random_state=None, reg_alpha=0.0, reg_lambda=0.0,\n",
       "       silent=True, subsample=1.0, subsample_for_bin=200000,\n",
       "       subsample_freq=0)"
      ]
     },
     "execution_count": 456,
     "metadata": {},
     "output_type": "execute_result"
    }
   ],
   "source": [
    "model_lgb.fit(train[final_features],train['traffic_volume'])"
   ]
  },
  {
   "cell_type": "code",
   "execution_count": 457,
   "metadata": {
    "ExecuteTime": {
     "end_time": "2019-08-04T10:02:30.364594Z",
     "start_time": "2019-08-04T10:02:30.344133Z"
    },
    "collapsed": false
   },
   "outputs": [
    {
     "data": {
      "text/plain": [
       "traffic_volume        223\n",
       "predicted_rf      368.849\n",
       "predicted_lgb     368.117\n",
       "predicted_xgb     373.125\n",
       "Name: 900, dtype: object"
      ]
     },
     "execution_count": 457,
     "metadata": {},
     "output_type": "execute_result"
    }
   ],
   "source": [
    "train.iloc[900][['traffic_volume','predicted_rf','predicted_lgb','predicted_xgb']]"
   ]
  },
  {
   "cell_type": "code",
   "execution_count": 458,
   "metadata": {
    "ExecuteTime": {
     "end_time": "2019-08-04T10:02:30.801769Z",
     "start_time": "2019-08-04T10:02:30.785496Z"
    },
    "collapsed": false
   },
   "outputs": [
    {
     "data": {
      "text/plain": [
       "(array([25185], dtype=int64),)"
      ]
     },
     "execution_count": 458,
     "metadata": {},
     "output_type": "execute_result"
    }
   ],
   "source": [
    "np.where(pred_val_lgb<0)"
   ]
  },
  {
   "cell_type": "code",
   "execution_count": 464,
   "metadata": {
    "ExecuteTime": {
     "end_time": "2019-08-04T14:08:16.159793Z",
     "start_time": "2019-08-04T14:08:14.058639Z"
    },
    "collapsed": false
   },
   "outputs": [
    {
     "name": "stdout",
     "output_type": "stream",
     "text": [
      "327.2650946523795\n"
     ]
    }
   ],
   "source": [
    "pred_val_lgb=model_lgb.predict(train[final_features])\n",
    "\n",
    "print(math.sqrt(mean_squared_error(train['traffic_volume'],pred_val_lgb)))\n",
    "#print(math.sqrt(mean_squared_log_error(train['traffic_volume'],pred_val_lgb)))\n"
   ]
  },
  {
   "cell_type": "code",
   "execution_count": null,
   "metadata": {
    "collapsed": true
   },
   "outputs": [],
   "source": []
  },
  {
   "cell_type": "code",
   "execution_count": 460,
   "metadata": {
    "ExecuteTime": {
     "end_time": "2019-08-04T10:02:48.530660Z",
     "start_time": "2019-08-04T10:02:45.458535Z"
    },
    "collapsed": true
   },
   "outputs": [],
   "source": [
    "train['predicted_rf']=pred_val_reg\n",
    "train['predicted_lgb']=pred_val_lgb\n",
    "train['predicted_xgb']=pred_val_xgb\n",
    "train['final_two']=(train[\"predicted_rf\"]+train[\"predicted_lgb\"])/2\n",
    "train['final_three']=(train[\"predicted_rf\"]+train[\"predicted_lgb\"]+train['predicted_xgb'])/3"
   ]
  },
  {
   "cell_type": "code",
   "execution_count": 461,
   "metadata": {
    "ExecuteTime": {
     "end_time": "2019-08-04T10:02:48.554394Z",
     "start_time": "2019-08-04T10:02:48.538314Z"
    },
    "collapsed": false
   },
   "outputs": [
    {
     "name": "stdout",
     "output_type": "stream",
     "text": [
      "529.1555611971464\n"
     ]
    }
   ],
   "source": [
    "#validation with hour_weather_mean_encoding\n",
    "\n",
    "print(math.sqrt(mean_squared_error(train['traffic_volume'],train['day_of_week_hour_weather_type_mean_encoding'])))\n",
    "#print(math.sqrt(mean_squared_log_error(train['traffic_volume'],train['day_of_week_hour_weather_type_mean_encoding'])))\n"
   ]
  },
  {
   "cell_type": "code",
   "execution_count": 462,
   "metadata": {
    "ExecuteTime": {
     "end_time": "2019-08-04T10:02:52.494358Z",
     "start_time": "2019-08-04T10:02:52.478508Z"
    },
    "collapsed": false
   },
   "outputs": [
    {
     "name": "stdout",
     "output_type": "stream",
     "text": [
      "306.88813085915916\n"
     ]
    }
   ],
   "source": [
    "#validation with ensemble lgm,rf\n",
    "\n",
    "print(math.sqrt(mean_squared_error(train['traffic_volume'],train['final_two'])))\n",
    "#print(math.sqrt(mean_squared_log_error(train['traffic_volume'],train['final_two'])))\n"
   ]
  },
  {
   "cell_type": "code",
   "execution_count": 463,
   "metadata": {
    "ExecuteTime": {
     "end_time": "2019-08-04T10:02:58.435577Z",
     "start_time": "2019-08-04T10:02:58.423437Z"
    },
    "collapsed": false
   },
   "outputs": [
    {
     "name": "stdout",
     "output_type": "stream",
     "text": [
      "313.9298362449557\n"
     ]
    }
   ],
   "source": [
    "#validation with ensemble lgm,rf\n",
    "#305,314\n",
    "print(math.sqrt(mean_squared_error(train['traffic_volume'],train['final_three'])))\n",
    "#print(math.sqrt(mean_squared_log_error(train['traffic_volume'],train['final_three'])))\n"
   ]
  },
  {
   "cell_type": "markdown",
   "metadata": {
    "ExecuteTime": {
     "end_time": "2019-08-03T14:43:49.170257Z",
     "start_time": "2019-08-03T14:43:49.157901Z"
    }
   },
   "source": [
    "# Prediction On Test"
   ]
  },
  {
   "cell_type": "code",
   "execution_count": 425,
   "metadata": {
    "ExecuteTime": {
     "end_time": "2019-08-04T09:45:00.204533Z",
     "start_time": "2019-08-04T09:44:59.602370Z"
    },
    "collapsed": true
   },
   "outputs": [],
   "source": [
    "test['date_time2'] = pd.to_datetime(test['date_time2'])"
   ]
  },
  {
   "cell_type": "code",
   "execution_count": 426,
   "metadata": {
    "ExecuteTime": {
     "end_time": "2019-08-04T09:45:00.337525Z",
     "start_time": "2019-08-04T09:45:00.213568Z"
    },
    "collapsed": true
   },
   "outputs": [],
   "source": [
    "test=test.drop_duplicates(\"date_time2\")\n"
   ]
  },
  {
   "cell_type": "code",
   "execution_count": 427,
   "metadata": {
    "ExecuteTime": {
     "end_time": "2019-08-04T09:45:00.468362Z",
     "start_time": "2019-08-04T09:45:00.342821Z"
    },
    "collapsed": true
   },
   "outputs": [],
   "source": [
    "#train.isnull().sum()"
   ]
  },
  {
   "cell_type": "code",
   "execution_count": 428,
   "metadata": {
    "ExecuteTime": {
     "end_time": "2019-08-04T09:45:03.620435Z",
     "start_time": "2019-08-04T09:45:01.529967Z"
    },
    "collapsed": true
   },
   "outputs": [],
   "source": [
    "prediction_rgb=model_reg.predict(test[final_features])\n",
    "prediction_lgb=model_lgb.predict(test[final_features])\n",
    "predicted_xgb=best_xgb_model.predict(test[final_features])"
   ]
  },
  {
   "cell_type": "markdown",
   "metadata": {},
   "source": [
    "# Ensembling on Test"
   ]
  },
  {
   "cell_type": "code",
   "execution_count": 438,
   "metadata": {
    "ExecuteTime": {
     "end_time": "2019-08-04T09:45:32.645502Z",
     "start_time": "2019-08-04T09:45:30.333325Z"
    },
    "collapsed": true
   },
   "outputs": [],
   "source": [
    "test['predicted_rf']=prediction_rgb\n",
    "test['predicted_lgb']=prediction_lgb\n",
    "test['predicted_xgb']=predicted_xgb\n",
    "test['traffic_volume']=(test[\"predicted_rf\"]+test[\"predicted_lgb\"]+test['predicted_xgb'])/3\n",
    "#test['traffic_volume']=prediction_rgb\n",
    "#test['traffic_volume']=(test[\"predicted_rf\"]+test[\"predicted_lgb\"])/2"
   ]
  },
  {
   "cell_type": "code",
   "execution_count": 439,
   "metadata": {
    "ExecuteTime": {
     "end_time": "2019-08-04T09:45:32.789441Z",
     "start_time": "2019-08-04T09:45:32.651403Z"
    },
    "collapsed": true
   },
   "outputs": [],
   "source": [
    "test[['date_time','traffic_volume']].to_csv('regg.csv')"
   ]
  },
  {
   "cell_type": "code",
   "execution_count": 440,
   "metadata": {
    "ExecuteTime": {
     "end_time": "2019-08-04T09:45:32.808097Z",
     "start_time": "2019-08-04T09:45:32.792464Z"
    },
    "collapsed": true
   },
   "outputs": [],
   "source": [
    "def create_time_features(data):\n",
    "    data['date_time_new'] = pd.to_datetime(data['date_time'])\n",
    "    data['date'] = pd.to_datetime(data['date_time_new'].dt.date)\n",
    "    data['year'] = data['date_time_new'].dt.year\n",
    "    data['time'] = data['date_time_new'].dt.time\n",
    "    data['hours'] = data['time'].apply(lambda x: str(x).split(':')[0]).astype(int)\n",
    "    data['day_month'] = data['date_time_new'].dt.day\n",
    "    data['day_week'] = data['date_time_new'].dt.dayofweek\n",
    "    data['month'] = data['date_time_new'].dt.month\n",
    "    return data\n"
   ]
  },
  {
   "cell_type": "code",
   "execution_count": 441,
   "metadata": {
    "ExecuteTime": {
     "end_time": "2019-08-04T09:45:32.961344Z",
     "start_time": "2019-08-04T09:45:32.936392Z"
    },
    "collapsed": true
   },
   "outputs": [],
   "source": [
    "def create_time_features2(data):\n",
    "    data['date_time_new'] = pd.to_datetime(data['date_time2'])\n",
    "    data['date'] = pd.to_datetime(data['date_time_new'].dt.date)\n",
    "    data['year'] = data['date_time_new'].dt.year\n",
    "    data['time'] = data['date_time_new'].dt.time\n",
    "    data['hours'] = data['time'].apply(lambda x: str(x).split(':')[0]).astype(int)\n",
    "    data['day_month'] = data['date_time_new'].dt.day\n",
    "    data['day_week'] = data['date_time_new'].dt.dayofweek\n",
    "    data['month'] = data['date_time_new'].dt.month\n",
    "    return data"
   ]
  },
  {
   "cell_type": "code",
   "execution_count": 442,
   "metadata": {
    "ExecuteTime": {
     "end_time": "2019-08-04T09:45:34.203710Z",
     "start_time": "2019-08-04T09:45:34.195992Z"
    },
    "collapsed": true
   },
   "outputs": [],
   "source": [
    "test.reset_index(inplace=True,drop=True)"
   ]
  },
  {
   "cell_type": "code",
   "execution_count": 443,
   "metadata": {
    "ExecuteTime": {
     "end_time": "2019-08-04T09:45:34.962724Z",
     "start_time": "2019-08-04T09:45:34.787529Z"
    },
    "collapsed": true
   },
   "outputs": [],
   "source": [
    "subm = pd.read_csv(r\"E:\\Spark\\DataSets\\Test.csv\")\n",
    "\n",
    "subm = create_time_features(subm)"
   ]
  },
  {
   "cell_type": "code",
   "execution_count": 444,
   "metadata": {
    "ExecuteTime": {
     "end_time": "2019-08-04T09:45:40.015887Z",
     "start_time": "2019-08-04T09:45:35.402619Z"
    },
    "collapsed": true
   },
   "outputs": [],
   "source": [
    "\n",
    "subm = subm[['date_time','date','hours']]\n",
    "\n",
    "test = create_time_features2(test)\n",
    "\n",
    "pred = test"
   ]
  },
  {
   "cell_type": "code",
   "execution_count": 445,
   "metadata": {
    "ExecuteTime": {
     "end_time": "2019-08-04T09:45:40.628022Z",
     "start_time": "2019-08-04T09:45:40.021033Z"
    },
    "collapsed": true
   },
   "outputs": [],
   "source": [
    "\n",
    "pred['date'] = pd.to_datetime(pred['date'])\n",
    "\n",
    "\n",
    "subm = subm.merge(pred[['date','hours','traffic_volume']],how='left',left_on=['date','hours'],\n",
    "                                    right_on=['date','hours'])\n",
    "subm['traffic_volume'] = np.where(subm['traffic_volume']<=0,20,subm['traffic_volume'])\n",
    "\n"
   ]
  },
  {
   "cell_type": "code",
   "execution_count": 446,
   "metadata": {
    "ExecuteTime": {
     "end_time": "2019-08-04T09:45:43.585445Z",
     "start_time": "2019-08-04T09:45:43.474470Z"
    },
    "collapsed": true
   },
   "outputs": [],
   "source": [
    "subm[['date_time','traffic_volume']].to_csv('next_reg_503.csv',index=False)\n"
   ]
  },
  {
   "cell_type": "code",
   "execution_count": 211,
   "metadata": {
    "ExecuteTime": {
     "end_time": "2019-08-04T08:34:45.706546Z",
     "start_time": "2019-08-04T08:34:45.694211Z"
    },
    "collapsed": false
   },
   "outputs": [
    {
     "data": {
      "text/plain": [
       "(14454, 4)"
      ]
     },
     "execution_count": 211,
     "metadata": {},
     "output_type": "execute_result"
    }
   ],
   "source": [
    "subm.shape"
   ]
  },
  {
   "cell_type": "code",
   "execution_count": null,
   "metadata": {
    "collapsed": true
   },
   "outputs": [],
   "source": []
  }
 ],
 "metadata": {
  "kernelspec": {
   "display_name": "Python 3",
   "language": "python",
   "name": "python3"
  },
  "language_info": {
   "codemirror_mode": {
    "name": "ipython",
    "version": 3
   },
   "file_extension": ".py",
   "mimetype": "text/x-python",
   "name": "python",
   "nbconvert_exporter": "python",
   "pygments_lexer": "ipython3",
   "version": "3.6.6"
  },
  "toc": {
   "base_numbering": 1,
   "nav_menu": {},
   "number_sections": true,
   "sideBar": true,
   "skip_h1_title": false,
   "title_cell": "Table of Contents",
   "title_sidebar": "Contents",
   "toc_cell": false,
   "toc_position": {},
   "toc_section_display": true,
   "toc_window_display": false
  }
 },
 "nbformat": 4,
 "nbformat_minor": 2
}
